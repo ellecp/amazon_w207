{
 "cells": [
  {
   "cell_type": "markdown",
   "metadata": {},
   "source": [
    "# Understanding the Amazon rainforest from space"
   ]
  },
  {
   "cell_type": "markdown",
   "metadata": {},
   "source": [
    "##Overview of Section\n",
    "1. Split of test data/training data Justification\n",
    "2. Weather models (Multi-classifier single labels)\n",
    "3. Single Label Land Approach\n",
    "4. Multi-label land approach\n",
    "5. Combined Land/Weather approach\n",
    "\n",
    "\n",
    "Given we are mostly interested in being able to tell where deforestation is occuring, we will simplify the land tags into naturally occuring phenomena \n",
    "\n"
   ]
  },
  {
   "cell_type": "code",
   "execution_count": 5,
   "metadata": {
    "collapsed": false
   },
   "outputs": [
    {
     "data": {
      "text/html": [
       "<script>requirejs.config({paths: { 'plotly': ['https://cdn.plot.ly/plotly-latest.min']},});if(!window.Plotly) {{require(['plotly'],function(plotly) {window.Plotly=plotly;});}}</script>"
      ],
      "text/vnd.plotly.v1+html": [
       "<script>requirejs.config({paths: { 'plotly': ['https://cdn.plot.ly/plotly-latest.min']},});if(!window.Plotly) {{require(['plotly'],function(plotly) {window.Plotly=plotly;});}}</script>"
      ]
     },
     "metadata": {},
     "output_type": "display_data"
    }
   ],
   "source": [
    "import numpy as np # linear algebra\n",
    "import pandas as pd \n",
    "from subprocess import check_output\n",
    "import matplotlib.pyplot as plt\n",
    "%matplotlib inline\n",
    "import scipy\n",
    "import scipy.stats\n",
    "import seaborn as sns\n",
    "import cv2\n",
    "import plotly.offline as py\n",
    "py.init_notebook_mode(connected=True)\n",
    "\n",
    "import plotly.graph_objs as go\n",
    "import plotly.tools as tls\n",
    "import random\n",
    "import math\n",
    "# from osgeo import gdal\n",
    "from skimage import io\n",
    "#import imageio\n",
    "from sklearn import preprocessing\n",
    "\n",
    "from sklearn.pipeline import Pipeline\n",
    "from sklearn.neighbors import KNeighborsClassifier\n",
    "from sklearn.metrics import confusion_matrix\n",
    "from sklearn.svm import SVC\n",
    "from sklearn.grid_search import GridSearchCV\n",
    "from sklearn.linear_model import LogisticRegression\n",
    "from skimage import transform\n",
    "from sklearn.tree import DecisionTreeClassifier\n",
    "from sklearn.metrics import classification_report, f1_score, accuracy_score, confusion_matrix\n",
    "from sklearn.cross_validation import StratifiedKFold, cross_val_score, train_test_split \n",
    "from sklearn.preprocessing import MultiLabelBinarizer, MinMaxScaler\n",
    "from sklearn.metrics import fbeta_score\n",
    "from sklearn.model_selection import train_test_split\n",
    "from sklearn.multiclass import OneVsRestClassifier\n",
    "from sklearn.ensemble import RandomForestClassifier\n",
    "from sklearn.model_selection import train_test_split\n",
    "from sklearn.decomposition import PCA\n",
    "from sklearn.multioutput import ClassifierChain\n",
    "from sklearn.neighbors import KNeighborsClassifier\n",
    "from sklearn.model_selection import cross_val_score\n",
    "import warnings\n",
    "warnings.filterwarnings('ignore')"
   ]
  },
  {
   "cell_type": "markdown",
   "metadata": {},
   "source": [
    "## 1. Split of test training data\n",
    "We are choosing to split the data 90 to 10 training to test. This is because \n",
    "\n",
    "We are including so much more data in the training set because some of the features are \n",
    "\n",
    "Nick/Wei please build in random shuffle of the data here."
   ]
  },
  {
   "cell_type": "code",
   "execution_count": 18,
   "metadata": {
    "collapsed": false
   },
   "outputs": [],
   "source": [
    "df = pd.read_csv('train_labels.csv')\n",
    "def apply_land(land_tags):\n",
    "    land_list=[]\n",
    "    other_tags=['habitation','bare_ground','cultivation','agriculture','blow_down', 'conventional_mine', 'selective_logging', 'slash_burn', 'artisinal_mine', 'blooming']\n",
    "    if 'primary' in land_tags:\n",
    "        land_list.append('primary')\n",
    "    if 'water' in land_tags:\n",
    "        land_list.append(\"water\")\n",
    "    other_present=0\n",
    "    for i in other_tags:\n",
    "        if i in land_tags:\n",
    "            other_present=1\n",
    "            break\n",
    "    if other_present==1:\n",
    "        land_list.append('other')\n",
    "    if land_list == []:\n",
    "        land_list.append('none')\n",
    "    return ' '.join(land_list)\n",
    "\n",
    "#Add a column for weather tags\n",
    "def apply_weather(weather):\n",
    "    if 'partly_cloudy' in weather:\n",
    "        return 'partly_cloudy'\n",
    "    elif 'cloudy' in weather:\n",
    "        return 'cloudy'\n",
    "    elif 'haze' in weather:\n",
    "        return 'haze'\n",
    "    else:\n",
    "        return 'clear'\n",
    "    \n",
    "def add_two_columns(df):\n",
    "    df['weather'] = df.tags.map(apply_weather)\n",
    "    df['land'] = df.tags.map(apply_land)\n",
    "    return df\n",
    "\n",
    "add_two_columns(df)\n",
    "df.to_csv(\"train_labels_clean.csv\")"
   ]
  },
  {
   "cell_type": "code",
   "execution_count": 25,
   "metadata": {
    "collapsed": false
   },
   "outputs": [],
   "source": [
    "#obtain processed training labels and data\n",
    "labels = pd.read_csv('train_labels_clean.csv')\n",
    "data = pd.read_csv('train_data.csv')\n",
    "\n",
    "train_labels_weather=labels.weather[:39000]\n",
    "train_labels_land=labels.land[:39000]\n",
    "train_data=data[:39000]\n",
    "\n",
    "test_labels_weather=df.weather[39000:]\n",
    "test_labels_land=df.land[39000:]\n",
    "test_data=data[39000:]"
   ]
  },
  {
   "cell_type": "markdown",
   "metadata": {},
   "source": [
    "## Weather feature identification\n",
    "\n",
    "Weather feature identification is being performed for cloud and haze removal. This facilitates the successive water, land and primary feature identification."
   ]
  },
  {
   "cell_type": "markdown",
   "metadata": {},
   "source": [
    "1. Create Useful fucntions\n",
    "2. Try a variety of models\n",
    "3. Improve on the most successful model preformance"
   ]
  },
  {
   "cell_type": "code",
   "execution_count": 26,
   "metadata": {
    "collapsed": true
   },
   "outputs": [],
   "source": [
    "def cross_validation(model, data, labels):\n",
    "    scores = cross_val_score(model, data, labels)\n",
    "    print(\"Cross-Validation\\n Accuracy: %0.2f (+/- %0.2f)\" % (scores.mean(), scores.std() * 2)) "
   ]
  },
  {
   "cell_type": "code",
   "execution_count": 27,
   "metadata": {
    "collapsed": true
   },
   "outputs": [],
   "source": [
    "def confusion_mat(y_true, y_pred):\n",
    "    print('Confusion Matrix')\n",
    "    print(confusion_matrix(y_true, y_pred))"
   ]
  },
  {
   "cell_type": "markdown",
   "metadata": {},
   "source": [
    " ## 1. Logistic Regresion model\n",
    " "
   ]
  },
  {
   "cell_type": "code",
   "execution_count": 30,
   "metadata": {
    "collapsed": false
   },
   "outputs": [
    {
     "name": "stdout",
     "output_type": "stream",
     "text": [
      "Logistic Regression:                precision    recall  f1-score   support\n",
      "\n",
      "        clear       0.86      0.96      0.91      1047\n",
      "       cloudy       0.63      0.58      0.61        69\n",
      "         haze       0.68      0.44      0.54        97\n",
      "partly_cloudy       0.83      0.61      0.70       266\n",
      "\n",
      "  avg / total       0.84      0.84      0.83      1479\n",
      "\n",
      "Cross-Validation\n",
      " Accuracy: 0.82 (+/- 0.01)\n",
      "Confusion Matrix\n",
      "[[1000    6   12   29]\n",
      " [  19   40    7    3]\n",
      " [  40   13   43    1]\n",
      " [  99    4    1  162]]\n"
     ]
    }
   ],
   "source": [
    "#Logistic Regression\n",
    "def logistic_regression(training_data, training_labels, testing_data, testing_labels):\n",
    "    model =LogisticRegression()\n",
    "    model.fit(training_data, training_labels)\n",
    "    model_predictions=model.predict(testing_data)\n",
    "    print('Logistic Regression: ' + classification_report(testing_labels,model_predictions))\n",
    "    cross_validation(model, training_data, training_labels)\n",
    "    confusion_mat(testing_labels, model_predictions)\n",
    "    #classifier_chain(model, train_data_weather, train_label_weather, test_data_weather, test_label_weather)\n",
    "logistic_regression(train_data, train_labels_weather, test_data, test_labels_weather)"
   ]
  },
  {
   "cell_type": "markdown",
   "metadata": {},
   "source": [
    "THis model works okay for clear weather - but not really for anything else. Log Reg probably not the way to go.\n",
    "\n",
    "Which labels is it confusing? Everything for Clear by the look of if"
   ]
  },
  {
   "cell_type": "code",
   "execution_count": 33,
   "metadata": {
    "collapsed": false
   },
   "outputs": [
    {
     "name": "stdout",
     "output_type": "stream",
     "text": [
      "Decision Tree: K-branch levels 5\n",
      "               precision    recall  f1-score   support\n",
      "\n",
      "        clear       0.87      0.96      0.92      1047\n",
      "       cloudy       0.66      0.68      0.67        69\n",
      "         haze       0.79      0.45      0.58        97\n",
      "partly_cloudy       0.83      0.62      0.71       266\n",
      "\n",
      "  avg / total       0.85      0.85      0.84      1479\n",
      "\n",
      "Cross-Validation\n",
      " Accuracy: 0.84 (+/- 0.00)\n",
      "Confusion Matrix\n",
      "[[1008    6    5   28]\n",
      " [  11   47    6    5]\n",
      " [  40   12   44    1]\n",
      " [  95    6    1  164]]\n",
      "Decision Tree: K-branch levels 10\n",
      "               precision    recall  f1-score   support\n",
      "\n",
      "        clear       0.92      0.95      0.93      1047\n",
      "       cloudy       0.71      0.70      0.70        69\n",
      "         haze       0.77      0.53      0.63        97\n",
      "partly_cloudy       0.80      0.77      0.79       266\n",
      "\n",
      "  avg / total       0.88      0.88      0.88      1479\n",
      "\n",
      "Cross-Validation\n",
      " Accuracy: 0.87 (+/- 0.01)\n",
      "Confusion Matrix\n",
      "[[997   4   8  38]\n",
      " [  6  48   5  10]\n",
      " [ 30  14  51   2]\n",
      " [ 56   2   2 206]]\n",
      "Decision Tree: K-branch levels 20\n",
      "               precision    recall  f1-score   support\n",
      "\n",
      "        clear       0.92      0.95      0.93      1047\n",
      "       cloudy       0.70      0.72      0.71        69\n",
      "         haze       0.71      0.52      0.60        97\n",
      "partly_cloudy       0.81      0.78      0.79       266\n",
      "\n",
      "  avg / total       0.87      0.88      0.87      1479\n",
      "\n",
      "Cross-Validation\n",
      " Accuracy: 0.87 (+/- 0.00)\n",
      "Confusion Matrix\n",
      "[[992   5  12  38]\n",
      " [  5  50   5   9]\n",
      " [ 32  13  50   2]\n",
      " [ 53   3   3 207]]\n",
      "Decision Tree: K-branch levels 50\n",
      "               precision    recall  f1-score   support\n",
      "\n",
      "        clear       0.92      0.95      0.93      1047\n",
      "       cloudy       0.69      0.72      0.71        69\n",
      "         haze       0.71      0.51      0.59        97\n",
      "partly_cloudy       0.81      0.78      0.79       266\n",
      "\n",
      "  avg / total       0.87      0.88      0.87      1479\n",
      "\n",
      "Cross-Validation\n",
      " Accuracy: 0.87 (+/- 0.00)\n",
      "Confusion Matrix\n",
      "[[992   5  12  38]\n",
      " [  5  50   5   9]\n",
      " [ 32  14  49   2]\n",
      " [ 53   3   3 207]]\n",
      "Decision Tree: K-branch levels 100\n",
      "               precision    recall  f1-score   support\n",
      "\n",
      "        clear       0.92      0.95      0.93      1047\n",
      "       cloudy       0.69      0.72      0.71        69\n",
      "         haze       0.71      0.51      0.59        97\n",
      "partly_cloudy       0.81      0.78      0.79       266\n",
      "\n",
      "  avg / total       0.87      0.88      0.87      1479\n",
      "\n",
      "Cross-Validation\n",
      " Accuracy: 0.87 (+/- 0.01)\n",
      "Confusion Matrix\n",
      "[[992   5  12  38]\n",
      " [  5  50   5   9]\n",
      " [ 32  14  49   2]\n",
      " [ 53   3   3 207]]\n"
     ]
    }
   ],
   "source": [
    "def dec_tree_model(maxs,data_train,labels_train,data_test,labels_test):\n",
    "    #set the model to take in the k value\n",
    "    model = DecisionTreeClassifier(min_samples_leaf=20, max_depth=maxs)\n",
    "    #fit per the train data\n",
    "    model.fit(data_train, labels_train)\n",
    "    model_predictions=model.predict(data_test)\n",
    "    #set by the test data\n",
    "#     score = model.score(data_test, labels_test)\n",
    "    #print the score prettily\n",
    "    return classification_report(labels_test,model_predictions), model, model_predictions\n",
    "for i in [5,10,20,50,100]:\n",
    "    print(\"Decision Tree: K-branch levels \" + str(i))\n",
    "    classification_rpt, model, model_predictions = dec_tree_model(i,train_data,train_labels_weather,test_data,test_labels_weather)\n",
    "    print(classification_rpt)\n",
    "    cross_validation(model, train_data, train_labels_weather)\n",
    "    confusion_mat(test_labels_weather, model_predictions)"
   ]
  },
  {
   "cell_type": "code",
   "execution_count": 34,
   "metadata": {
    "collapsed": false
   },
   "outputs": [
    {
     "name": "stdout",
     "output_type": "stream",
     "text": [
      "Random Forest: K-branch levels 5\n",
      "               precision    recall  f1-score   support\n",
      "\n",
      "        clear       0.86      0.98      0.92      1047\n",
      "       cloudy       0.72      0.62      0.67        69\n",
      "         haze       0.84      0.47      0.61        97\n",
      "partly_cloudy       0.86      0.59      0.70       266\n",
      "\n",
      "  avg / total       0.86      0.86      0.85      1479\n",
      "\n",
      "Cross-Validation\n",
      " Accuracy: 0.84 (+/- 0.01)\n",
      "Confusion Matrix\n",
      "[[1022    5    5   15]\n",
      " [  12   43    4   10]\n",
      " [  40   11   46    0]\n",
      " [ 108    1    0  157]]\n",
      "Random Forest: K-branch levels 10\n",
      "               precision    recall  f1-score   support\n",
      "\n",
      "        clear       0.90      0.98      0.94      1047\n",
      "       cloudy       0.84      0.67      0.74        69\n",
      "         haze       0.85      0.58      0.69        97\n",
      "partly_cloudy       0.90      0.73      0.80       266\n",
      "\n",
      "  avg / total       0.89      0.89      0.89      1479\n",
      "\n",
      "Cross-Validation\n",
      " Accuracy: 0.89 (+/- 0.00)\n",
      "Confusion Matrix\n",
      "[[1027    2    6   12]\n",
      " [  10   46    4    9]\n",
      " [  33    7   56    1]\n",
      " [  73    0    0  193]]\n",
      "Random Forest: K-branch levels 20\n",
      "               precision    recall  f1-score   support\n",
      "\n",
      "        clear       0.92      0.97      0.94      1047\n",
      "       cloudy       0.82      0.74      0.78        69\n",
      "         haze       0.82      0.64      0.72        97\n",
      "partly_cloudy       0.90      0.78      0.84       266\n",
      "\n",
      "  avg / total       0.90      0.91      0.90      1479\n",
      "\n",
      "Cross-Validation\n",
      " Accuracy: 0.89 (+/- 0.00)\n",
      "Confusion Matrix\n",
      "[[1019    2    9   17]\n",
      " [   9   51    5    4]\n",
      " [  27    7   62    1]\n",
      " [  56    2    0  208]]\n",
      "Random Forest: K-branch levels 50\n",
      "               precision    recall  f1-score   support\n",
      "\n",
      "        clear       0.92      0.98      0.95      1047\n",
      "       cloudy       0.80      0.70      0.74        69\n",
      "         haze       0.81      0.60      0.69        97\n",
      "partly_cloudy       0.90      0.77      0.83       266\n",
      "\n",
      "  avg / total       0.90      0.90      0.90      1479\n",
      "\n",
      "Cross-Validation\n",
      " Accuracy: 0.89 (+/- 0.00)\n",
      "Confusion Matrix\n",
      "[[1023    2   10   12]\n",
      " [   7   48    4   10]\n",
      " [  29    8   58    2]\n",
      " [  59    2    0  205]]\n",
      "Random Forest: K-branch levels 75\n",
      "               precision    recall  f1-score   support\n",
      "\n",
      "        clear       0.92      0.98      0.95      1047\n",
      "       cloudy       0.83      0.71      0.77        69\n",
      "         haze       0.83      0.64      0.72        97\n",
      "partly_cloudy       0.91      0.80      0.85       266\n",
      "\n",
      "  avg / total       0.91      0.91      0.91      1479\n",
      "\n",
      "Cross-Validation\n",
      " Accuracy: 0.90 (+/- 0.00)\n",
      "Confusion Matrix\n",
      "[[1022    2   10   13]\n",
      " [  10   49    2    8]\n",
      " [  27    8   62    0]\n",
      " [  51    0    1  214]]\n"
     ]
    }
   ],
   "source": [
    "def random_forest_model(maxs,data_train,labels_train,data_test,labels_test):\n",
    "    #set the model to take in the k value\n",
    "    model = RandomForestClassifier(n_estimators=20, max_depth=maxs, min_samples_leaf=2)\n",
    "     #fit per the train data\n",
    "    model.fit(data_train, labels_train)\n",
    "    model_predictions=model.predict(data_test)\n",
    "    #set by the test data\n",
    "#     score = model.score(data_test, labels_test)\n",
    "    #print the score prettily\n",
    "    return classification_report(labels_test,model_predictions), model, model_predictions\n",
    "\n",
    "for i in [5,10,20,50,75]:\n",
    "    print(\"Random Forest: K-branch levels \" + str(i))\n",
    "    classification_rpt, model,model_predictions = random_forest_model(i,train_data,train_labels_weather,test_data,test_labels_weather)\n",
    "    print(classification_rpt)\n",
    "    cross_validation(model, train_data, train_labels_weather)\n",
    "    confusion_mat(test_labels_weather, model_predictions)\n",
    "#     print('One Vs. Rest K-branch levels ' + str(i))\n",
    "#     classifier_chain(model, train_data, train_labels, test_data, test_labels)"
   ]
  },
  {
   "cell_type": "code",
   "execution_count": 38,
   "metadata": {
    "collapsed": false
   },
   "outputs": [
    {
     "name": "stdout",
     "output_type": "stream",
     "text": [
      "               precision    recall  f1-score   support\n",
      "\n",
      "        clear       0.92      0.98      0.95      1047\n",
      "       cloudy       0.86      0.70      0.77        69\n",
      "         haze       0.82      0.63      0.71        97\n",
      "partly_cloudy       0.92      0.79      0.85       266\n",
      "\n",
      "  avg / total       0.91      0.91      0.91      1479\n",
      "\n",
      "Cross-Validation\n",
      " Accuracy: 0.90 (+/- 0.00)\n",
      "Confusion Matrix\n",
      "[[1026    2    8   11]\n",
      " [  11   48    4    6]\n",
      " [  30    5   61    1]\n",
      " [  53    1    1  211]]\n"
     ]
    }
   ],
   "source": [
    "sel_weather_model = RandomForestClassifier(n_estimators=50, max_depth=20)\n",
    "     #fit per the train data\n",
    "sel_weather_model.fit(train_data, train_labels_weather)\n",
    "model_predictions=sel_weather_model.predict(test_data)\n",
    "print(classification_report(test_labels_weather,model_predictions))\n",
    "cross_validation(model, train_data, train_labels_weather)\n",
    "confusion_mat(test_labels_weather, model_predictions)"
   ]
  },
  {
   "cell_type": "markdown",
   "metadata": {
    "collapsed": true
   },
   "source": [
    "This is now a fairly accurate model for the clear and partly cloudy models. Both cloudy and hazy are getting confused with clear."
   ]
  },
  {
   "cell_type": "markdown",
   "metadata": {},
   "source": [
    "## 2. Land Models - single label models"
   ]
  },
  {
   "cell_type": "code",
   "execution_count": null,
   "metadata": {
    "collapsed": false
   },
   "outputs": [
    {
     "name": "stdout",
     "output_type": "stream",
     "text": [
      "Random Forest: K-branch levels 5\n",
      "                     precision    recall  f1-score   support\n",
      "\n",
      "               none       0.70      0.65      0.68        69\n",
      "              other       0.00      0.00      0.00        21\n",
      "            primary       0.83      0.85      0.84       722\n",
      "      primary other       0.58      0.81      0.68       415\n",
      "      primary water       0.61      0.24      0.34       126\n",
      "primary water other       0.54      0.25      0.35       114\n",
      "              water       0.00      0.00      0.00         8\n",
      "        water other       0.00      0.00      0.00         4\n",
      "\n",
      "        avg / total       0.70      0.71      0.69      1479\n",
      "\n",
      "Cross-Validation\n",
      " Accuracy: 0.85 (+/- 0.01)\n",
      "Confusion Matrix\n",
      "[[  0   0   0   6   0 592 358  45  44   2]\n",
      " [  0   0   0  45   0   6  17   1   0   0]\n",
      " [  0   0   0  12   0  61  21   1   2   0]\n",
      " [  0   0   0   0   0   0   0   0   0   0]\n",
      " [  0   0   0   1   0  73 182   2   8   0]\n",
      " [  0   0   0   0   0   0   0   0   0   0]\n",
      " [  0   0   0   0   0   0   0   0   0   0]\n",
      " [  0   0   0   0   0   0   0   0   0   0]\n",
      " [  0   0   0   0   0   0   0   0   0   0]\n",
      " [  0   0   0   0   0   0   0   0   0   0]]\n",
      "Random Forest: K-branch levels 10\n",
      "                     precision    recall  f1-score   support\n",
      "\n",
      "               none       0.80      0.74      0.77        69\n",
      "              other       0.00      0.00      0.00        21\n",
      "            primary       0.86      0.91      0.89       722\n",
      "      primary other       0.68      0.82      0.74       415\n",
      "      primary water       0.63      0.45      0.53       126\n",
      "primary water other       0.61      0.30      0.40       114\n",
      "              water       0.29      0.25      0.27         8\n",
      "        water other       0.00      0.00      0.00         4\n",
      "\n",
      "        avg / total       0.75      0.77      0.75      1479\n",
      "\n"
     ]
    }
   ],
   "source": [
    "def random_forest_model(maxs,data_train,labels_train,data_test,labels_test):\n",
    "    #set the model to take in the k value\n",
    "    model = RandomForestClassifier(n_estimators=20, max_depth=maxs, min_samples_leaf=2)\n",
    "     #fit per the train data\n",
    "    model.fit(data_train, labels_train)\n",
    "    model_predictions=model.predict(data_test)\n",
    "    #set by the test data\n",
    "#     score = model.score(data_test, labels_test)\n",
    "    #print the score prettily\n",
    "    return classification_report(labels_test,model_predictions), model, model_predictions\n",
    "\n",
    "for i in [5,10,20,50,75,100]:\n",
    "    print(\"Random Forest: K-branch levels \" + str(i))\n",
    "    classification_rpt, model, model_predictions = random_forest_model(i,train_data,train_labels_land,test_data,test_labels_land)\n",
    "    print(classification_rpt)\n",
    "    cross_validation(model, train_data, train_labels_weather)\n",
    "    confusion_mat(test_labels_weather, model_predictions)\n",
    "#     print('One Vs. Rest K-branch levels ' + str(i))\n",
    "#     classifier_chain(model, train_data, train_labels, test_data, test_labels)"
   ]
  },
  {
   "cell_type": "markdown",
   "metadata": {
    "collapsed": true
   },
   "source": [
    "The model does extremely badly on picking up models with water - it is fairly efficient at picking up primar and primary tags vs other"
   ]
  },
  {
   "cell_type": "code",
   "execution_count": null,
   "metadata": {
    "collapsed": false
   },
   "outputs": [],
   "source": [
    "sel_land_model = RandomForestClassifier(n_estimators=50, max_depth=100, min_samples_leaf=5)\n",
    "     #fit per the train data\n",
    "sel_land_model.fit(train_data_land, train_label_land)\n",
    "model_predictions=sel_land_model.predict(test_data_land)\n",
    "print(classification_report(test_label_land,model_predictions))\n",
    "cross_validation(model, train_data_weather, train_label_weather)\n",
    "confusion_mat(test_label_weather, model_predictions)"
   ]
  },
  {
   "cell_type": "markdown",
   "metadata": {},
   "source": [
    "This is clearly not a good model, as by forcing the labels to separate we lose all the predictive power contained in other labels. I.e. what's in a primary water image, will hopefully help use to predict whats in a water other tag as well."
   ]
  },
  {
   "cell_type": "markdown",
   "metadata": {},
   "source": [
    "# Land Models - multi-label models"
   ]
  },
  {
   "cell_type": "code",
   "execution_count": null,
   "metadata": {
    "collapsed": true
   },
   "outputs": [],
   "source": [
    "train_data, test_data, train_label, test_label = train_test_split(combined_matrix, df['tags'].tolist(), test_size=0.1)\n",
    "# Create training and test sets for weather labels by randomly splitting the original dataset as 90%/10%\n",
    "train_data_weather, test_data_weather, train_label_weather, test_label_weather = train_test_split(combined_matrix, df['weather'].tolist(), test_size=0.1)\n",
    "# Create training and test sets for land labels by randomly splitting the original dataset as 90%/10%\n",
    "train_data_land, test_data_land, train_label_land, test_label_land = train_test_split(combined_matrix, df['land'].tolist(), test_size=0.1)"
   ]
  },
  {
   "cell_type": "code",
   "execution_count": 203,
   "metadata": {
    "collapsed": true
   },
   "outputs": [],
   "source": [
    "df['tags_split'] = df['land'].map(lambda row: row.split(\" \"))\n",
    "mlb = MultiLabelBinarizer()\n",
    "labels = mlb.fit_transform(df['tags_split'])\n",
    "train_data_land_multi, test_data_land_multi, train_label_land_multi, test_label_land_multi= train_test_split(combined_matrix, labels, test_size=0.1)"
   ]
  },
  {
   "cell_type": "code",
   "execution_count": 204,
   "metadata": {
    "collapsed": false
   },
   "outputs": [
    {
     "ename": "NameError",
     "evalue": "name 'train_data' is not defined",
     "output_type": "error",
     "traceback": [
      "\u001b[0;31m---------------------------------------------------------------------------\u001b[0m",
      "\u001b[0;31mNameError\u001b[0m                                 Traceback (most recent call last)",
      "\u001b[0;32m<ipython-input-204-c9b933c2389e>\u001b[0m in \u001b[0;36m<module>\u001b[0;34m()\u001b[0m\n\u001b[0;32m----> 1\u001b[0;31m \u001b[0movr\u001b[0m\u001b[0;34m=\u001b[0m\u001b[0mOneVsRestClassifier\u001b[0m\u001b[0;34m(\u001b[0m\u001b[0mDecisionTreeClassifier\u001b[0m\u001b[0;34m(\u001b[0m\u001b[0mmax_depth\u001b[0m\u001b[0;34m=\u001b[0m\u001b[0;36m50\u001b[0m\u001b[0;34m,\u001b[0m \u001b[0mmin_samples_leaf\u001b[0m\u001b[0;34m=\u001b[0m\u001b[0;36m10\u001b[0m\u001b[0;34m)\u001b[0m\u001b[0;34m)\u001b[0m\u001b[0;34m.\u001b[0m\u001b[0mfit\u001b[0m\u001b[0;34m(\u001b[0m\u001b[0mtrain_data\u001b[0m\u001b[0;34m,\u001b[0m\u001b[0mtrain_labels\u001b[0m\u001b[0;34m)\u001b[0m\u001b[0;34m\u001b[0m\u001b[0m\n\u001b[0m\u001b[1;32m      2\u001b[0m \u001b[0movr_predict\u001b[0m\u001b[0;34m=\u001b[0m\u001b[0movr\u001b[0m\u001b[0;34m.\u001b[0m\u001b[0mpredict\u001b[0m\u001b[0;34m(\u001b[0m\u001b[0mtest_data\u001b[0m\u001b[0;34m)\u001b[0m\u001b[0;34m\u001b[0m\u001b[0m\n\u001b[1;32m      3\u001b[0m \u001b[0mprint\u001b[0m\u001b[0;34m(\u001b[0m\u001b[0mclassification_report\u001b[0m\u001b[0;34m(\u001b[0m\u001b[0mtest_labels\u001b[0m\u001b[0;34m,\u001b[0m\u001b[0movr_predict\u001b[0m\u001b[0;34m)\u001b[0m\u001b[0;34m)\u001b[0m\u001b[0;34m\u001b[0m\u001b[0m\n",
      "\u001b[0;31mNameError\u001b[0m: name 'train_data' is not defined"
     ]
    }
   ],
   "source": [
    "def ovr_model(estimator, data_train,labels_train,data_test,labels_test):\n",
    "    model=OneVsRestClassifier(estimator).fit(train_data_land_multi,train_label_land_multi)\n",
    "    model_predict=model.predict(test_data_land_multi)\n",
    "    print('OVR with ' + str(model.get_params().get('estimator'))[0:str(model.get_params().get('estimator')).find('(')]+' estimator: ')\n",
    "    print(classification_report(test_label_land_multi,model_predict))\n",
    "    cross_validation(model, train_data_land_multi, train_label_land_multi)\n",
    "    confusion_mat(test_label_land_multi.argmax(axis=1), model_predict.argmax(axis=1))\n",
    "ovr_model(RandomForestClassifier(n_estimators=50,max_depth=50, min_samples_leaf=2), train_data_land_multi,train_label_land_multi,test_data_land_multi,test_label_land_multi)\n",
    "ovr_model(DecisionTreeClassifier(max_depth=50, min_samples_leaf=10), train_data_land_multi,train_label_land_multi,test_data_land_multi,test_label_land_multi)"
   ]
  },
  {
   "cell_type": "code",
   "execution_count": null,
   "metadata": {
    "collapsed": true
   },
   "outputs": [],
   "source": [
    "def classifier_chain_model(estimator, data_train,labels_train,data_test,labels_test):\n",
    "    model = ClassifierChain(estimator).fit(train_data_land_multi, train_label_land_multi)\n",
    "    model_predict=cc.predict(test_data_land_multi)\n",
    "    print('Classifier Chain with ' + str(model.get_params().get('base_estimator'))[0:str(model.get_params().get('base_estimator')).find('(')]+' base estimator: ')\n",
    "    print(classification_report(test_label_land_multi,model_predict))\n",
    "    cross_validation(model, train_data_land_multi, train_label_land_multi)\n",
    "    confusion_mat(test_label_land_multi.argmax(axis=1), model_predict.argmax(axis=1))\n",
    "classifier_chain_model(RandomForestClassifier(n_estimators=50,max_depth=50, min_samples_leaf=2), train_data_land_multi,train_label_land_multi,test_data_land_multi,test_label_land_multi)\n",
    "classifier_chain_model(DecisionTreeClassifier(max_depth=50, min_samples_leaf=10), train_data_land_multi,train_label_land_multi,test_data_land_multi,test_label_land_multi)"
   ]
  },
  {
   "cell_type": "code",
   "execution_count": null,
   "metadata": {
    "collapsed": true
   },
   "outputs": [],
   "source": [
    "def k_neighbors_model(k,data_train,labels_train,data_test,labels_test):\n",
    "    model = KNeighborsClassifier(n_neighbors=k, algorithm='ball_tree').fit(train_data_land_multi, train_label_land_multi)\n",
    "    model_predict=nbrs.predict(test_data_land_multi)\n",
    "    print(classification_report(test_label_land_multi,nbrs_predict))\n",
    "    cross_validation(model, train_data_land_multi, train_label_land_multi)\n",
    "    confusion_mat(test_label_land_multi.argmax(axis=1), model_predict.argmax(axis=1))\n",
    "for i in [1,5,10,12,13]:\n",
    "    print(\"K-Neighbors: \" + str(i))\n",
    "    k_neighbors_model(i,train_data_land_multi,train_label_land_multi,test_data_land_multi,test_label_land_multi)   "
   ]
  },
  {
   "cell_type": "markdown",
   "metadata": {},
   "source": [
    "The model is now doing a better job at picking up the rare labels, though it struggles a lot with the water label. \n",
    "It is mostly good at detecting the primary label because it appears so often, though it does a relatively good job with the other label, and the none label (which should mostly be used for cloudly image."
   ]
  },
  {
   "cell_type": "markdown",
   "metadata": {},
   "source": [
    "The model does well at picking clear, cloudy, primary and not much else. To better identify roads, and water edge extraction may \n",
    "help. We're also not taking advantage of correlation with the model here.\n",
    "\n",
    "Interestingly the model isn't picking too many false positives (i.e. precision), but is picking a lot of false negatives(i.e. recall). This suggests we need to build more features to pick up land masses, roads and waters. \n"
   ]
  },
  {
   "cell_type": "markdown",
   "metadata": {},
   "source": []
  },
  {
   "cell_type": "markdown",
   "metadata": {},
   "source": [
    "Out of scope\n",
    "Try Convultional Neural Networks\n",
    "Ask June for help in Set-up"
   ]
  }
 ],
 "metadata": {
  "kernelspec": {
   "display_name": "Python 3",
   "language": "python",
   "name": "python3"
  },
  "language_info": {
   "codemirror_mode": {
    "name": "ipython",
    "version": 3
   },
   "file_extension": ".py",
   "mimetype": "text/x-python",
   "name": "python",
   "nbconvert_exporter": "python",
   "pygments_lexer": "ipython3",
   "version": "3.6.0"
  }
 },
 "nbformat": 4,
 "nbformat_minor": 2
}
