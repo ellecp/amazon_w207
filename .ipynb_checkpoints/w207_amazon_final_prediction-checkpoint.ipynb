{
 "cells": [
  {
   "cell_type": "markdown",
   "metadata": {},
   "source": [
    "# Understanding the Amazon rainforest from space"
   ]
  },
  {
   "cell_type": "markdown",
   "metadata": {},
   "source": [
    "## Overview of Section\n",
    "1. Split of test data/training data Justification\n",
    "2. Weather models (Multi-classifier single labels)\n",
    "3. Single Label Land Approach\n",
    "4. Multi-label land approach\n",
    "5. Combined Land/Weather approach\n",
    "\n",
    "\n",
    "Given we are mostly interested in being able to tell where deforestation is occuring, we will simplify the land tags into naturally occuring phenomena \n",
    "\n"
   ]
  },
  {
   "cell_type": "code",
   "execution_count": 1,
   "metadata": {},
   "outputs": [
    {
     "data": {
      "text/html": [
       "<script>requirejs.config({paths: { 'plotly': ['https://cdn.plot.ly/plotly-latest.min']},});if(!window.Plotly) {{require(['plotly'],function(plotly) {window.Plotly=plotly;});}}</script>"
      ],
      "text/vnd.plotly.v1+html": [
       "<script>requirejs.config({paths: { 'plotly': ['https://cdn.plot.ly/plotly-latest.min']},});if(!window.Plotly) {{require(['plotly'],function(plotly) {window.Plotly=plotly;});}}</script>"
      ]
     },
     "metadata": {},
     "output_type": "display_data"
    },
    {
     "name": "stderr",
     "output_type": "stream",
     "text": [
      "C:\\Users\\nmccorma\\AppData\\Local\\Continuum\\anaconda3\\lib\\site-packages\\sklearn\\cross_validation.py:41: DeprecationWarning:\n",
      "\n",
      "This module was deprecated in version 0.18 in favor of the model_selection module into which all the refactored classes and functions are moved. Also note that the interface of the new CV iterators are different from that of this module. This module will be removed in 0.20.\n",
      "\n",
      "C:\\Users\\nmccorma\\AppData\\Local\\Continuum\\anaconda3\\lib\\site-packages\\sklearn\\grid_search.py:42: DeprecationWarning:\n",
      "\n",
      "This module was deprecated in version 0.18 in favor of the model_selection module into which all the refactored classes and functions are moved. This module will be removed in 0.20.\n",
      "\n"
     ]
    }
   ],
   "source": [
    "import numpy as np # linear algebra\n",
    "import pandas as pd \n",
    "from subprocess import check_output\n",
    "import matplotlib.pyplot as plt\n",
    "%matplotlib inline\n",
    "import scipy\n",
    "import scipy.stats\n",
    "import seaborn as sns\n",
    "import cv2\n",
    "import plotly.offline as py\n",
    "py.init_notebook_mode(connected=True)\n",
    "\n",
    "import plotly.graph_objs as go\n",
    "import plotly.tools as tls\n",
    "import random\n",
    "import math\n",
    "from skimage import io\n",
    "import itertools\n",
    "from sklearn import preprocessing\n",
    "\n",
    "from sklearn.pipeline import Pipeline\n",
    "from sklearn.neighbors import KNeighborsClassifier\n",
    "from sklearn.metrics import confusion_matrix\n",
    "from sklearn.svm import SVC\n",
    "from sklearn.grid_search import GridSearchCV\n",
    "from sklearn.linear_model import LogisticRegression\n",
    "from skimage import transform\n",
    "from sklearn.tree import DecisionTreeClassifier\n",
    "from sklearn.metrics import classification_report, f1_score, accuracy_score, confusion_matrix\n",
    "from sklearn.cross_validation import StratifiedKFold, cross_val_score, train_test_split \n",
    "from sklearn.preprocessing import MultiLabelBinarizer, MinMaxScaler\n",
    "from sklearn.metrics import fbeta_score\n",
    "from sklearn.model_selection import train_test_split\n",
    "from sklearn.multiclass import OneVsRestClassifier\n",
    "from sklearn.ensemble import RandomForestClassifier\n",
    "from sklearn.model_selection import train_test_split\n",
    "from sklearn.decomposition import PCA\n",
    "from sklearn.multioutput import ClassifierChain\n",
    "from sklearn.neighbors import KNeighborsClassifier\n",
    "from sklearn.model_selection import cross_val_score\n",
    "from sklearn.metrics import precision_recall_fscore_support as score\n",
    "import warnings\n",
    "warnings.filterwarnings('ignore')"
   ]
  },
  {
   "cell_type": "markdown",
   "metadata": {},
   "source": [
    "## 1. Split of test training data\n",
    "We are choosing to split the data 90 to 10 training to test. This is because \n",
    "\n",
    "We are including so much more data in the training set because some of the features are \n",
    "\n",
    "Nick/Wei please build in random shuffle of the data here."
   ]
  },
  {
   "cell_type": "code",
   "execution_count": 2,
   "metadata": {},
   "outputs": [],
   "source": [
    "#obtain processed training labels and data\n",
    "labels = pd.read_csv('train_labels_clean.csv')\n",
    "\n",
    "data = pd.read_csv('train_data_2.csv')\n",
    "# Create training and test sets for weather labels by randomly splitting the original dataset as 90%/10%\n",
    "train_data_weather, test_data_weather, train_labels_weather, test_labels_weather = train_test_split(data, labels.weather, test_size=0.1)\n",
    "# Create training and test sets for land labels by randomly splitting the original dataset as 90%/10%\n",
    "train_data_land, test_data_land, train_labels_land, test_labels_land = train_test_split(data, labels.land, test_size=0.1)\n",
    "# Create training and test sets for multi-label land labels by randomly splitting the original dataset as 90%/10%\n",
    "labels['tags_split'] = labels['land'].map(lambda row: row.split(\" \"))\n",
    "mlb = MultiLabelBinarizer()\n",
    "multi_labels = mlb.fit_transform(labels['tags_split'])\n",
    "train_data_land_multi, test_data_land_multi, train_labels_land_multi, test_labels_land_multi= train_test_split(data, multi_labels, test_size=0.1)"
   ]
  },
  {
   "cell_type": "markdown",
   "metadata": {},
   "source": [
    "## Weather feature identification\n",
    "\n",
    "Weather feature identification is being performed for cloud and haze removal. This facilitates the successive water, land and primary feature identification."
   ]
  },
  {
   "cell_type": "markdown",
   "metadata": {},
   "source": [
    "1. Create Useful fucntions\n",
    "2. Try a variety of models\n",
    "3. Improve on the most successful model preformance"
   ]
  },
  {
   "cell_type": "markdown",
   "metadata": {},
   "source": [
    " ## 1. Output Functions\n",
    " "
   ]
  },
  {
   "cell_type": "code",
   "execution_count": 7,
   "metadata": {},
   "outputs": [],
   "source": [
    "def plot_confusion_matrix(cm, classes,\n",
    "                          title='Confusion matrix',\n",
    "                          cmap=plt.cm.Greens):\n",
    "    \"\"\"\n",
    "    This function prints and plots the confusion matrix.\n",
    "    Normalization can be applied by setting `normalize=True`.\n",
    "    \"\"\"\n",
    "    cm = cm.astype('float') / cm.sum(axis=1)[:, np.newaxis]\n",
    "\n",
    "    plt.imshow(cm, interpolation='nearest', cmap=cmap)\n",
    "    plt.title(title)\n",
    "    plt.colorbar()\n",
    "    tick_marks = np.arange(len(classes))\n",
    "    plt.xticks(tick_marks, classes, rotation=45)\n",
    "    plt.yticks(tick_marks, classes)\n",
    "\n",
    "    fmt = '.2f'\n",
    "    thresh = cm.max() / 2.\n",
    "    for i, j in itertools.product(range(cm.shape[0]), range(cm.shape[1])):\n",
    "        plt.text(j, i, format(cm[i, j], fmt),\n",
    "                 horizontalalignment=\"center\",\n",
    "                 color=\"white\" if cm[i, j] > thresh else \"black\")\n",
    "\n",
    "    plt.tight_layout()\n",
    "    plt.ylabel('True label')\n",
    "    plt.xlabel('Predicted label')\n",
    "\n",
    "\n",
    "def single_model_output(pipeline, scores, train_data, train_label, test_data, test_label):\n",
    "    pipeline.fit(train_data,train_label)\n",
    "    model_predictions=pipeline.predict(test_data)\n",
    "\n",
    "    print(\"Cross-Validation\\n Accuracy: %0.2f (+/- %0.2f)\" % (scores.mean(), scores.std() * 2)) \n",
    "\n",
    "    con_fu=confusion_matrix(test_label, model_predictions)\n",
    "    class_list=sorted(list(set(test_label)))\n",
    "    return plot_confusion_matrix(con_fu, classes=class_list)\n",
    "\n",
    "def multiple_model_output(pipeline, scores, train_data, train_label, test_data, test_label):\n",
    "    pipeline.fit(train_data,train_label)\n",
    "    model_predictions=pipeline.predict(test_data)\n",
    "    print(classification_report(test_label,model_predictions))\n",
    "    \n",
    "    print(\"Cross-Validation\\n Accuracy: %0.2f (+/- %0.2f)\" % (scores.mean(), scores.std() * 2)) \n",
    "    \n",
    "    con_fu=confusion_matrix(test_label.argmax(axis=1), model_predictions.argmax(axis=1))\n",
    "    class_list=sorted(list(set(test_label.argmax(axis=1))))\n",
    "    return plot_confusion_matrix(con_fu, classes=class_list)"
   ]
  },
  {
   "cell_type": "markdown",
   "metadata": {
    "collapsed": true
   },
   "source": [
    "## 2. Logistic Regression"
   ]
  },
  {
   "cell_type": "code",
   "execution_count": null,
   "metadata": {},
   "outputs": [],
   "source": [
    "# Setup the pipeline for logistics regression\n",
    "LG_model =LogisticRegression(tol=0.02)\n",
    "LG_pipeline = Pipeline([\n",
    "    ('LogisticsRegression', LG_model),\n",
    "])\n",
    "\n",
    "LG_scores = cross_val_score(LG_pipeline,\n",
    "                            train_data_weather,\n",
    "                            train_labels_weather,\n",
    "                            cv=10,\n",
    "                            scoring='f1_micro')"
   ]
  },
  {
   "cell_type": "code",
   "execution_count": null,
   "metadata": {},
   "outputs": [],
   "source": [
    "# Check output for Logistics Regression\n",
    "single_model_output(LG_pipeline, LG_scores, train_data_weather, train_labels_weather, test_data_weather, test_labels_weather)"
   ]
  },
  {
   "cell_type": "markdown",
   "metadata": {},
   "source": [
    "THis model works okay for clear weather - but not really for anything else. Log Reg probably not the way to go.\n",
    "\n",
    "Which labels is it confusing? Everything for Clear by the look of if!"
   ]
  },
  {
   "cell_type": "code",
   "execution_count": null,
   "metadata": {},
   "outputs": [],
   "source": [
    "# Setup the pipeline for decision tree. Use GridSearchCV to find the best depth for decision tree\n",
    "param_grid = dict(DecisionTrees__max_depth=[5, 10,20,50,100], m)\n",
    "DT_model=DecisionTreeClassifier(min_samples_leaf=20)\n",
    "DT_pipeline = Pipeline([\n",
    "    ('DecisionTrees', DT_model),\n",
    "])\n",
    "\n",
    "grid_tree = GridSearchCV(DT_pipeline, param_grid)\n",
    "grid_tree.fit(train_data_weather, train_labels_weather)\n",
    "tree_preds = grid_tree.predict(test_data_weather)"
   ]
  },
  {
   "cell_type": "code",
   "execution_count": null,
   "metadata": {},
   "outputs": [],
   "source": [
    "print(\"The best tree parameters are: \" + str(grid_tree.best_params_))"
   ]
  },
  {
   "cell_type": "code",
   "execution_count": null,
   "metadata": {},
   "outputs": [],
   "source": [
    "# Set up the pipeline for decision tree with the best depth = 75\n",
    "DT_model_best =DecisionTreeClassifier(min_samples_leaf=5, max_depth=75)\n",
    "DT_pipeline_best = Pipeline([\n",
    "    ('DecisionTrees', DT_model_best),\n",
    "])\n",
    "\n",
    "DT_scores = cross_val_score(DT_pipeline_best,\n",
    "                            train_data_weather,\n",
    "                            train_labels_weather,\n",
    "                            cv=10,\n",
    "                            scoring='f1_micro')"
   ]
  },
  {
   "cell_type": "code",
   "execution_count": null,
   "metadata": {},
   "outputs": [],
   "source": [
    "# Check output for Decision Tree\n",
    "single_model_output(DT_pipeline_best, DT_scores, train_data_weather, train_labels_weather, test_data_weather, test_labels_weather)"
   ]
  },
  {
   "cell_type": "code",
   "execution_count": null,
   "metadata": {},
   "outputs": [],
   "source": [
    "# Setup the pipeline for random forest. Use GridSearchCV to find the best parameters \n",
    "param_grid = dict(RandomForest__max_depth=[5, 10,20,50,75],\n",
    "                 RandomForest__n_estimators = [20,50,100,200],\n",
    "                 RandomForest__min_samples_leaf = [2,3,4,5,10])\n",
    "\n",
    "RF_model =RandomForestClassifier()\n",
    "RF_pipeline = Pipeline([\n",
    "    ('RandomForest', RF_model),\n",
    "])\n",
    "\n",
    "grid_forest = GridSearchCV(RF_pipeline, param_grid)\n",
    "grid_forest.fit(train_data_weather, train_labels_weather)\n",
    "forest_preds = grid_forest.predict(test_data_weather)"
   ]
  },
  {
   "cell_type": "code",
   "execution_count": null,
   "metadata": {},
   "outputs": [],
   "source": [
    "print(\"The best tree parameters are: \" + str(grid_forest.best_params_))"
   ]
  },
  {
   "cell_type": "code",
   "execution_count": null,
   "metadata": {},
   "outputs": [],
   "source": [
    "# Set up the pipeline for random forest with the best parameters\n",
    "RF_model_best =RandomForestClassifier(n_estimators=20, min_samples_leaf=5,max_depth=75)\n",
    "RF_pipeline_best = Pipeline([\n",
    "    ('RandomForest', RF_model_best),\n",
    "])\n",
    "\n",
    "RF_scores = cross_val_score(RF_pipeline_best, \n",
    "                                          train_data_weather,\n",
    "                                          train_labels_weather, \n",
    "                                          cv=10,\n",
    "                                          scoring='f1_micro')"
   ]
  },
  {
   "cell_type": "code",
   "execution_count": null,
   "metadata": {},
   "outputs": [],
   "source": [
    "# Check output for Random Forest\n",
    "single_model_output(RF_pipeline_best, RF_scores, train_data_weather, train_labels_weather, test_data_weather, test_labels_weather)"
   ]
  },
  {
   "cell_type": "markdown",
   "metadata": {
    "collapsed": true
   },
   "source": [
    "This is now a fairly accurate model for the clear and partly cloudy models. Both cloudy and hazy are getting confused with clear."
   ]
  },
  {
   "cell_type": "markdown",
   "metadata": {},
   "source": [
    "## 2. Land Models - single label models"
   ]
  },
  {
   "cell_type": "code",
   "execution_count": null,
   "metadata": {},
   "outputs": [],
   "source": [
    "# Setup the pipeline for random forest. Use GridSearchCV to find the best parameters \n",
    "param_grid = dict(RandomForest__max_depth=[5, 10,20,50,75],\n",
    "                 RandomForest__n_estimators = [20,50,100,200],\n",
    "                 RandomForest__min_samples_leaf = [2,3,4,5,10])\n",
    "RF_model_land =RandomForestClassifier()\n",
    "RF_pipeline_land = Pipeline([\n",
    "    ('RandomForest', RF_model_land),\n",
    "])\n",
    "\n",
    "grid_forest_land = GridSearchCV(RF_pipeline_land, param_grid)\n",
    "grid_forest_land.fit(train_data_land, train_label_land)\n",
    "forest_preds_land = grid_forest_land.predict(test_data_land)"
   ]
  },
  {
   "cell_type": "code",
   "execution_count": null,
   "metadata": {},
   "outputs": [],
   "source": [
    "print(\"The best tree depth is: \" + str(grid_forest_land.best_params_))"
   ]
  },
  {
   "cell_type": "code",
   "execution_count": null,
   "metadata": {},
   "outputs": [],
   "source": [
    "# Set up the pipeline for random forest with the best parameters\n",
    "RF_model_land_best =RandomForestClassifier(n_estimators=100, min_samples_leaf=2,max_depth=10)\n",
    "RF_pipeline_land_best = Pipeline([\n",
    "    ('RandomForest', RF_model_land_best),\n",
    "])\n",
    "\n",
    "RF_land_scores = cross_val_score(RF_pipeline_land_best, \n",
    "                                          train_data_land,\n",
    "                                          train_labels_land, \n",
    "                                          cv=10,\n",
    "                                          scoring='f1_micro')"
   ]
  },
  {
   "cell_type": "code",
   "execution_count": null,
   "metadata": {},
   "outputs": [],
   "source": [
    "# Check output for Random Forest\n",
    "single_model_output(RF_pipeline_land_best, RF_land_scores, train_data_land, train_labels_land, test_data_land, test_labels_land)"
   ]
  },
  {
   "cell_type": "markdown",
   "metadata": {
    "collapsed": true
   },
   "source": [
    "The model does extremely badly on picking up models with water - it is fairly efficient at picking up primar and primary tags vs other"
   ]
  },
  {
   "cell_type": "markdown",
   "metadata": {},
   "source": [
    "This is clearly not a good model, as by forcing the labels to separate we lose all the predictive power contained in other labels. I.e. what's in a primary water image, will hopefully help use to predict whats in a water other tag as well."
   ]
  },
  {
   "cell_type": "markdown",
   "metadata": {},
   "source": [
    "# Multi-label models"
   ]
  },
  {
   "cell_type": "code",
   "execution_count": 3,
   "metadata": {},
   "outputs": [],
   "source": [
    "#GridSearchCV function for One vs. Rest (OVR) models\n",
    "def multi_gridsearchcv(param_grid, model, train_data, train_labels, test_data):\n",
    "    model_tuning=GridSearchCV(model, param_grid)\n",
    "    model_tuning.fit(train_data, train_labels)\n",
    "    print(\"The best parameters for the model are : \" +str(model_tuning.best_params_))"
   ]
  },
  {
   "cell_type": "code",
   "execution_count": 4,
   "metadata": {},
   "outputs": [],
   "source": [
    "#Pipeline for OVR models\n",
    "def multi_pipeline(model, estimator, train_data, train_labels, test_data, test_labels, scoring='f1_micro', cv=10):\n",
    "    multi_pipe = Pipeline([\n",
    "        (estimator,model),\n",
    "    ])\n",
    "    multi_scores = cross_val_score(multi_pipe, \n",
    "                                 train_data,\n",
    "                                 train_labels,\n",
    "                                 scoring=scoring,\n",
    "                                 cv=cv\n",
    "                                )\n",
    "    \n",
    "    multiple_model_output(multi_pipe, multi_scores, train_data, train_labels, test_data, test_labels)"
   ]
  },
  {
   "cell_type": "markdown",
   "metadata": {},
   "source": [
    "### One vs. Rest"
   ]
  },
  {
   "cell_type": "markdown",
   "metadata": {},
   "source": [
    "#### OVR-Random Forest"
   ]
  },
  {
   "cell_type": "code",
   "execution_count": 5,
   "metadata": {},
   "outputs": [
    {
     "name": "stdout",
     "output_type": "stream",
     "text": [
      "The best parameters for the model are : {'estimator__max_depth': 10, 'estimator__min_samples_leaf': 3, 'estimator__n_estimators': 50}\n"
     ]
    }
   ],
   "source": [
    "#Run GridSearchCV for OVR model with Random Forest Estimator\n",
    "\n",
    "#Parameter grid for final draft\n",
    "'''param_grid = {'estimator__max_depth':[5,10,20,50,75], \n",
    "              'estimator__n_estimators':[20,50,100,200],\n",
    "              'estimator__min_samples_leaf':[2,3,4,5,10]}'''\n",
    "\n",
    "multi_gridsearchcv(param_grid= {'estimator__max_depth':[5,10],\n",
    "                                  'estimator__n_estimators':[20,50],\n",
    "                                  'estimator__min_samples_leaf':[2,3]},\n",
    "                 model = OneVsRestClassifier(RandomForestClassifier()),\n",
    "                 train_data=train_data_land_multi,\n",
    "                 train_labels=train_labels_land_multi,\n",
    "                 test_data=test_data_land_multi\n",
    "                )"
   ]
  },
  {
   "cell_type": "code",
   "execution_count": 8,
   "metadata": {},
   "outputs": [
    {
     "name": "stdout",
     "output_type": "stream",
     "text": [
      "             precision    recall  f1-score   support\n",
      "\n",
      "          0       0.85      0.68      0.76       219\n",
      "          1       0.82      0.81      0.82      1553\n",
      "          2       0.97      0.99      0.98      3744\n",
      "          3       0.87      0.59      0.70       750\n",
      "\n",
      "avg / total       0.92      0.89      0.90      6266\n",
      "\n",
      "Cross-Validation\n",
      " Accuracy: 0.90 (+/- 0.00)\n"
     ]
    },
    {
     "data": {
      "image/png": "[encoded data removed]",
      "text/plain": [
       "<matplotlib.figure.Figure at 0x2159b2b2048>"
      ]
     },
     "metadata": {},
     "output_type": "display_data"
    }
   ],
   "source": [
    "#Get classification report and confusion matrix for OVR model with Random Forest Estimator\n",
    "multi_pipeline(model=OneVsRestClassifier(RandomForestClassifier(n_estimators=100, min_samples_leaf=2,max_depth=10)),\n",
    "             estimator='RandomForest',\n",
    "             train_data=train_data_land_multi,\n",
    "             train_labels=train_labels_land_multi,\n",
    "             test_data=test_data_land_multi,\n",
    "             test_labels=test_labels_land_multi\n",
    "            )"
   ]
  },
  {
   "cell_type": "markdown",
   "metadata": {},
   "source": [
    "#### OVR-Decision Tree"
   ]
  },
  {
   "cell_type": "code",
   "execution_count": null,
   "metadata": {},
   "outputs": [],
   "source": [
    "#Run GridSearchCV for OVR model with Decision Tree Estimator\n",
    "'''param_grid = {'estimator__max_depth':[5,10,20,50,75],\n",
    "              'estimator__min_samples_leaf':[2,3,4,5,10]}'''\n",
    "\n",
    "multi_gridsearchcv(param_grid= {'estimator__max_depth':[5,10],\n",
    "                              'estimator__min_samples_leaf':[2,3]},\n",
    "                 model = OneVsRestClassifier(DecisionTreeClassifier()),\n",
    "                 train_data=train_data_land_multi,\n",
    "                 train_labels=train_labels_land_multi,\n",
    "                 test_data=test_data_land_multi\n",
    "                )"
   ]
  },
  {
   "cell_type": "code",
   "execution_count": null,
   "metadata": {},
   "outputs": [],
   "source": [
    "#Get classification report and confusion matrix for OVR model with Decision Tree Estimator\n",
    "multi_pipeline(model=OneVsRestClassifier(DecisionTreeClassifier(max_depth=50, min_samples_leaf=10)),\n",
    "             estimator='DecisionTrees',\n",
    "             train_data=train_data_land_multi,\n",
    "             train_labels=train_labels_land_multi,\n",
    "             test_data=test_data_land_multi,\n",
    "             test_labels=test_labels_land_multi\n",
    "            )"
   ]
  },
  {
   "cell_type": "markdown",
   "metadata": {},
   "source": [
    "### Classifier Chains"
   ]
  },
  {
   "cell_type": "markdown",
   "metadata": {},
   "source": [
    "#### Classifier Chains-Random Forest"
   ]
  },
  {
   "cell_type": "code",
   "execution_count": null,
   "metadata": {},
   "outputs": [],
   "source": [
    "#Run GridSearchCV for Classifier Chain Model with Random Forest estimator\n",
    "'''param_grid = {'estimator__max_depth':[5,10,20,50,75], \n",
    "              'estimator__n_estimators':[20,50,100,200],\n",
    "              'estimator__min_samples_leaf':[2,3,4,5,10]}'''\n",
    "\n",
    "multi_gridsearchcv(param_grid= {'estimator__max_depth':[5,10],\n",
    "                                  'estimator__n_estimators':[20,50],\n",
    "                                  'estimator__min_samples_leaf':[2,3]},\n",
    "                 model = ClassifierChain(RandomForestClassifier()),\n",
    "                 train_data=train_data_land_multi,\n",
    "                 train_labels=train_labels_land_multi,\n",
    "                 test_data=test_data_land_multi\n",
    "                )"
   ]
  },
  {
   "cell_type": "code",
   "execution_count": null,
   "metadata": {},
   "outputs": [],
   "source": [
    "#Get classification report and confusion matrix for Classifier Chain Model with Random Forest estimator\n",
    "multi_pipeline(model=ClassifierChain(RandomForestClassifier(n_estimators=100, min_samples_leaf=2,max_depth=10)),\n",
    "             estimator='RandomForest',\n",
    "             train_data=train_data_land_multi,\n",
    "             train_labels=train_labels_land_multi,\n",
    "             test_data=test_data_land_multi,\n",
    "             test_labels=test_labels_land_multi\n",
    "            )"
   ]
  },
  {
   "cell_type": "markdown",
   "metadata": {},
   "source": [
    "#### Classifier Chains-Decision Tree"
   ]
  },
  {
   "cell_type": "code",
   "execution_count": null,
   "metadata": {},
   "outputs": [],
   "source": [
    "#Run GridSearchCV for Classifier Chain Model with Decision Trees estimator\n",
    "'''param_grid = {'estimator__max_depth':[5,10,20,50,75],\n",
    "              'estimator__min_samples_leaf':[2,3,4,5,10]}'''\n",
    "\n",
    "multi_gridsearchcv(param_grid= {'estimator__max_depth':[5,10],\n",
    "                              'estimator__min_samples_leaf':[2,3]},\n",
    "                 model = ClassifierChain(DecisionTreeClassifier()),\n",
    "                 train_data=train_data_land_multi,\n",
    "                 train_labels=train_labels_land_multi,\n",
    "                 test_data=test_data_land_multi\n",
    "                )"
   ]
  },
  {
   "cell_type": "code",
   "execution_count": null,
   "metadata": {},
   "outputs": [],
   "source": [
    "#Get classification report and confusion matrix for Classifier Chain Model with Decision Trees estimator\n",
    "multi_pipeline(model=ClassifierChain(DecisionTreeClassifier(max_depth=50, min_samples_leaf=10)),\n",
    "             estimator_name='DecisionTrees',\n",
    "             train_data=train_data_land_multi,\n",
    "             train_labels=train_labels_land_multi,\n",
    "             test_data=test_data_land_multi,\n",
    "             test_labels=test_labels_land_multi\n",
    "            )"
   ]
  },
  {
   "cell_type": "markdown",
   "metadata": {},
   "source": [
    "### K-Nearest Neighbors"
   ]
  },
  {
   "cell_type": "code",
   "execution_count": null,
   "metadata": {},
   "outputs": [],
   "source": [
    "def k_neighbors_model(k,data_train,labels_train,data_test,labels_test):\n",
    "    model = KNeighborsClassifier(n_neighbors=k, algorithm='ball_tree').fit(data_train, labels_train)\n",
    "    model_predict=model.predict(data_test)\n",
    "    print(classification_report(labels_test,model_predict))\n",
    "#     cross_validation(model, data_train, labels_train)\n",
    "#     confusion_mat(labels_test.argmax(axis=1), model_predict.argmax(axis=1))\n",
    "for i in [1,5,10,12,13]:\n",
    "    print(\"K-Neighbors: \" + str(i))\n",
    "    k_neighbors_model(i,train_data_land_multi,train_labels_land_multi,test_data_land_multi,test_labels_land_multi)   "
   ]
  },
  {
   "cell_type": "code",
   "execution_count": null,
   "metadata": {},
   "outputs": [],
   "source": [
    "'''#GridSearchCV function for One vs. Rest (OVR) models\n",
    "def ovr_gridsearchcv(param_grid, estimator, train_data, train_labels, test_data):\n",
    "    ovr_model = OneVsRestClassifier(estimator)\n",
    "    model_tuning=GridSearchCV(ovr_model, param_grid)\n",
    "    model_tuning.fit(train_data, train_labels)\n",
    "    print(\"The best parameters for the OVR model are : \" +str(model_tuning.best_params_))'''"
   ]
  },
  {
   "cell_type": "code",
   "execution_count": null,
   "metadata": {},
   "outputs": [],
   "source": [
    "'''#Pipeline for OVR models\n",
    "def ovr_pipeline(estimator, estimator_name, train_data, train_labels, test_data, test_labels, scoring='f1_micro', cv=10):\n",
    "    \n",
    "    ovr_model= OneVsRestClassifier(estimator)\n",
    "    ovr_pipe = Pipeline([\n",
    "        (estimator_name,ovr_model),\n",
    "    ])\n",
    "    ovr_scores = cross_val_score(ovr_pipe, \n",
    "                                 train_data,\n",
    "                                 train_labels,\n",
    "                                 scoring=scoring,\n",
    "                                 cv=cv\n",
    "                                )\n",
    "    \n",
    "    multiple_model_output(ovr_pipe, ovr_scores, train_data, train_labels, test_data, test_labels)'''"
   ]
  },
  {
   "cell_type": "code",
   "execution_count": null,
   "metadata": {},
   "outputs": [],
   "source": [
    "'''#GridSearchCV function for Classifier Chain Models\n",
    "def cc_gridsearchcv(param_grid, estimator, train_data, train_labels, test_data):\n",
    "    cc_model = ClassifierChain(estimator)\n",
    "    model_tuning=GridSearchCV(cc_model, param_grid)\n",
    "    model_tuning.fit(train_data, train_labels)\n",
    "    print(\"The best parameters for the Classifier Chain model are : \" +str(model_tuning.best_params_))'''"
   ]
  },
  {
   "cell_type": "code",
   "execution_count": null,
   "metadata": {},
   "outputs": [],
   "source": [
    "'''#Pipeline for Classifier Chain Models\n",
    "def cc_pipeline(estimator, estimator_name, train_data, train_labels, test_data, test_labels, cv=10, scoring='f1_micro'):\n",
    "    cc_model= ClassifierChain(estimator)\n",
    "\n",
    "    cc_pipe = Pipeline([\n",
    "        (estimator_name, cc_model),\n",
    "    ])\n",
    "    \n",
    "    cc_scores = cross_val_score(cc_pipe, \n",
    "                                 train_data,\n",
    "                                 train_labels,\n",
    "                                 scoring=scoring,\n",
    "                                 cv=cv\n",
    "                                )\n",
    "    multiple_model_output(cc_pipe, cc_scores, train_data, train_labels, test_data, test_labels)'''"
   ]
  },
  {
   "cell_type": "markdown",
   "metadata": {},
   "source": [
    "The model is now doing a better job at picking up the rare labels, though it struggles a lot with the water label. \n",
    "It is mostly good at detecting the primary label because it appears so often, though it does a relatively good job with the other label, and the none label (which should mostly be used for cloudly image."
   ]
  },
  {
   "cell_type": "markdown",
   "metadata": {},
   "source": [
    "The model does well at picking clear, cloudy, primary and not much else. To better identify roads, and water edge extraction may \n",
    "help. We're also not taking advantage of correlation with the model here.\n",
    "\n",
    "Interestingly the model isn't picking too many false positives (i.e. precision), but is picking a lot of false negatives(i.e. recall). This suggests we need to build more features to pick up land masses, roads and waters. \n"
   ]
  },
  {
   "cell_type": "markdown",
   "metadata": {},
   "source": []
  },
  {
   "cell_type": "markdown",
   "metadata": {},
   "source": [
    "Out of scope\n",
    "Try Convultional Neural Networks\n",
    "Ask June for help in Set-up"
   ]
  }
 ],
 "metadata": {
  "kernelspec": {
   "display_name": "Python 3",
   "language": "python",
   "name": "python3"
  },
  "language_info": {
   "codemirror_mode": {
    "name": "ipython",
    "version": 3
   },
   "file_extension": ".py",
   "mimetype": "text/x-python",
   "name": "python",
   "nbconvert_exporter": "python",
   "pygments_lexer": "ipython3",
   "version": "3.6.4"
  }
 },
 "nbformat": 4,
 "nbformat_minor": 2
}
