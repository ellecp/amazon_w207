{
 "cells": [
  {
   "cell_type": "markdown",
   "metadata": {},
   "source": [
    "# Understanding the Amazon rainforest from space"
   ]
  },
  {
   "cell_type": "markdown",
   "metadata": {},
   "source": [
    "Overview of Assignment\n",
    "There are three types of tags in this assignment:\n",
    "<br>\n",
    "1) Weather (Cloudly, Partly Cloudy, Hazy, Clear) - every item has only one of these ones\n",
    "<br>\n",
    "2) Easy to identify tags Primary (forest), agricultural, habitation, roads, water, cultivation, bare ground,\n",
    "<br>\n",
    "3) Hard Labels - Slash & Burn, selective logging, blooms, and mine types\n",
    "<br>\n",
    "\n",
    "Given we are mostly interested in being able to tell where deforestation is occuring, we will simplify the land tags into naturally occuring phenomena \n",
    "\n"
   ]
  },
  {
   "cell_type": "code",
   "execution_count": 1,
   "metadata": {},
   "outputs": [
    {
     "data": {
      "text/html": [
       "<script>requirejs.config({paths: { 'plotly': ['https://cdn.plot.ly/plotly-latest.min']},});if(!window.Plotly) {{require(['plotly'],function(plotly) {window.Plotly=plotly;});}}</script>"
      ],
      "text/vnd.plotly.v1+html": [
       "<script>requirejs.config({paths: { 'plotly': ['https://cdn.plot.ly/plotly-latest.min']},});if(!window.Plotly) {{require(['plotly'],function(plotly) {window.Plotly=plotly;});}}</script>"
      ]
     },
     "metadata": {},
     "output_type": "display_data"
    },
    {
     "name": "stderr",
     "output_type": "stream",
     "text": [
      "/Users/sairavuru/anaconda/lib/python3.5/site-packages/sklearn/cross_validation.py:41: DeprecationWarning:\n",
      "\n",
      "This module was deprecated in version 0.18 in favor of the model_selection module into which all the refactored classes and functions are moved. Also note that the interface of the new CV iterators are different from that of this module. This module will be removed in 0.20.\n",
      "\n",
      "/Users/sairavuru/anaconda/lib/python3.5/site-packages/sklearn/grid_search.py:42: DeprecationWarning:\n",
      "\n",
      "This module was deprecated in version 0.18 in favor of the model_selection module into which all the refactored classes and functions are moved. This module will be removed in 0.20.\n",
      "\n"
     ]
    }
   ],
   "source": [
    "##Create Libraries [Requires cleaning]\n",
    "### Required libraries\n",
    "\n",
    "import numpy as np # linear algebra\n",
    "import pandas as pd # data processing, CSV file I/O (e.g. pd.read_csv)\n",
    "from collections import Counter, defaultdict\n",
    "from subprocess import check_output\n",
    "import matplotlib.pyplot as plt\n",
    "%matplotlib inline\n",
    "import scipy\n",
    "import scipy.stats\n",
    "import seaborn as sns\n",
    "import cv2\n",
    "import plotly.offline as py\n",
    "py.init_notebook_mode(connected=True)\n",
    "\n",
    "import plotly.graph_objs as go\n",
    "import plotly.tools as tls\n",
    "import random\n",
    "# from osgeo import gdal\n",
    "from skimage import io\n",
    "#import imageio\n",
    "from spectral import get_rgb\n",
    "from sklearn import preprocessing\n",
    "\n",
    "from sklearn.pipeline import Pipeline\n",
    "from sklearn.neighbors import KNeighborsClassifier\n",
    "from sklearn.metrics import confusion_matrix\n",
    "from sklearn.svm import SVC\n",
    "from sklearn.grid_search import GridSearchCV\n",
    "from sklearn.linear_model import LogisticRegression\n",
    "from skimage import transform\n",
    "from sklearn.tree import DecisionTreeClassifier\n",
    "from sklearn.metrics import classification_report, f1_score, accuracy_score, confusion_matrix\n",
    "from sklearn.preprocessing import MultiLabelBinarizer, MinMaxScaler\n",
    "from sklearn.metrics import fbeta_score\n",
    "from sklearn.model_selection import train_test_split\n",
    "from sklearn.multiclass import OneVsRestClassifier\n",
    "from sklearn.ensemble import RandomForestClassifier\n",
    "\n",
    "from sklearn.decomposition import PCA\n",
    "\n",
    "import warnings\n",
    "warnings.filterwarnings('ignore')\n"
   ]
  },
  {
   "cell_type": "markdown",
   "metadata": {},
   "source": [
    "## Read the satellite images\n",
    "There're 2 image formats provided for training and testing: jpg and tif. The tif format contains additional dimensions outside of the jpg RGB dimensional constraints which enable us to extract the infrared spectrum."
   ]
  },
  {
   "cell_type": "code",
   "execution_count": 2,
   "metadata": {},
   "outputs": [
    {
     "name": "stdout",
     "output_type": "stream",
     "text": [
      "test_jpg/\n"
     ]
    }
   ],
   "source": [
    "##set path\n",
    "train_path1='train_jpg/'\n",
    "train_path2='train_tif/'\n",
    "test_path1='test_jpg/'\n",
    "\n",
    "#obtain training labels\n",
    "df = pd.read_csv('train_labels.csv')\n",
    "\n",
    "#retrieve jpg data - compress from 256x256 to 64x64 for faster training [remove constraint in final product]\n",
    "data_jpgs=np.zeros((40000,64,64,3))\n",
    "\n",
    "##retrieve jpg data\n",
    "def read_image(image_str):\n",
    "    read_img = plt.imread(train_path1+image_str)\n",
    "    read_img=read_img[:,:,:3]\n",
    "    jpg_img=transform.resize(read_img, (64,64,3))\n",
    "    return jpg_img\n",
    "for i in range(40000):\n",
    "    data_jpgs[i,:,:,:]=read_image(\"train_\"+str(i)+\".jpg\")"
   ]
  },
  {
   "cell_type": "code",
   "execution_count": 3,
   "metadata": {
    "collapsed": true
   },
   "outputs": [],
   "source": [
    "#retrieve tif format satellite images - compress from 256x256 to 64x64 for faster training [remove constraint in final product]\n",
    "def extract_identifier(image_str):\n",
    "    read_img = io.imread(train_path2+image_str)\n",
    "    tif_img=transform.resize(read_img, (64,64,4))\n",
    "    return tif_img\n",
    "\n",
    "#4th dimension of GeoTiff contains near-infrared spectrum\n",
    "tif_data=np.zeros((40000,64,64,4))\n",
    "for i in range(40000):\n",
    "    tif_data[i,:,:,:]=extract_identifier(\"train_\"+str(i)+\".tif\")\n"
   ]
  },
  {
   "cell_type": "markdown",
   "metadata": {},
   "source": [
    "## Label Analysis, Visualization, & Correlation\n",
    "\n",
    "Each picture can have multiple labels. There is a varying visibility between the images.  \n",
    "\n",
    "As a result, visibility is a key feature which needs to be identified and cleared for additional feature identification. Visibility is categorized in levels by cloud cover - haze, partly cloudy, cloudy and clear.\n",
    "\n",
    "Primary label refers to primary rainforest. Water refers to rivers and large water bodies.\n",
    "\n",
    "Human interference & civilization can be categorized into road, agriculture, habitation, selective logging, artisal mine, slash burn, blow down, conventional mine, etc."
   ]
  },
  {
   "cell_type": "markdown",
   "metadata": {},
   "source": [
    "Since the goal of our project is to automatically categorize landscape, which prepares for the prediction of rainforest diminishing rate, we categorize the original labels into three main areas:\n",
    "* Weather due to cloud cover (haze, partly cloudy, haze)\n",
    "* Road/water\n",
    "* Primary\n",
    "* Other tags\n",
    "\n",
    "All other tags will be removed to reduce the complexity.\n"
   ]
  },
  {
   "cell_type": "code",
   "execution_count": null,
   "metadata": {
    "collapsed": true
   },
   "outputs": [],
   "source": [
    "#Add a column for land tags\n",
    "def apply_land(land_tags):\n",
    "    if 'primary' in land_tags:\n",
    "        return 'primary'\n",
    "    elif 'water' in land_tags:\n",
    "        return 'water'\n",
    "    else:\n",
    "        return 'other'\n",
    "df['land'] = df.tags.map(apply_land)\n",
    "df_tags = df['land'].tolist()\n",
    "\n",
    "#Add a column to remove tags that are harder to predict\n",
    "def remove_tag(hard):\n",
    "    hard_tags=['blow_down', 'conventional_mine', 'selective_logging', 'slash_burn', 'artisinal_mine', 'blooming']\n",
    "    easier_tags=hard.split()\n",
    "    for i in hard_tags:\n",
    "        try:\n",
    "            easier_tags.remove(i)\n",
    "        except:\n",
    "            pass\n",
    "    easier_tags=' '.join(easier_tags)\n",
    "    return easier_tags\n",
    "df['simpler_tags'] = df.tags.map(remove_tag)\n",
    "\n",
    "#Add a column for weather tags\n",
    "def apply_weather(weather):\n",
    "    if 'partly_cloudy' in weather:\n",
    "        return 'partly_cloudy'\n",
    "    elif 'cloudy' in weather:\n",
    "        return 'cloudy'\n",
    "    elif 'haze' in weather:\n",
    "        return 'haze'\n",
    "    else:\n",
    "        return 'clear'\n",
    "df['weather'] = df.tags.map(apply_weather)\n",
    "df_tags = df['weather'].tolist()"
   ]
  },
  {
   "cell_type": "code",
   "execution_count": null,
   "metadata": {
    "collapsed": true
   },
   "outputs": [],
   "source": [
    "#After adding three more columns, our dataframe looks like this\n",
    "print(df.iloc[:3])"
   ]
  },
  {
   "cell_type": "code",
   "execution_count": 9,
   "metadata": {},
   "outputs": [
    {
     "name": "stdout",
     "output_type": "stream",
     "text": [
      "Total of 116278 non-unique tags in all training images\n",
      "Average number of labels per image 2.87 \n",
      "\n",
      "There is 17 unique labels including {'primary', 'slash_burn', 'road', 'artisinal_mine', 'blooming', 'agriculture', 'cloudy', 'bare_ground', 'water', 'partly_cloudy', 'conventional_mine', 'cultivation', 'selective_logging', 'haze', 'clear', 'habitation', 'blow_down'} \n",
      "\n"
     ]
    },
    {
     "data": {
      "text/plain": [
       "<matplotlib.axes._subplots.AxesSubplot at 0x1e4b04e550>"
      ]
     },
     "execution_count": 9,
     "metadata": {},
     "output_type": "execute_result"
    },
    {
     "data": {
      "image/png": "[encoded data removed]",
      "text/plain": [
       "<Figure size 1152x576 with 1 Axes>"
      ]
     },
     "metadata": {},
     "output_type": "display_data"
    }
   ],
   "source": [
    "#Graph demonstration of four weather type\n",
    "plt.figure(figsize=(12,12))\n",
    "weather_list = [\"haze\",\"partly_cloudy\",\"cloudy\",\"clear\"]\n",
    "j = 0\n",
    "for i in weather_list:\n",
    "    plt.subplot(4,4,j+1)\n",
    "    image_number = df.loc[df['weather'] == i][:1]['image_name'].values\n",
    "    image_path = train_path1+image_number+\".jpg\"\n",
    "    plt.imshow(plt.imread(image_path[0]))\n",
    "    plt.title(str(df[df.image_name == image_number[0]].tags.values))  \n",
    "    j += 1"
   ]
  },
  {
   "cell_type": "code",
   "execution_count": null,
   "metadata": {
    "collapsed": true
   },
   "outputs": [],
   "source": [
    "#Graph demonstration of three land type\n",
    "plt.figure(figsize=(12,12))\n",
    "land_list = [\"primary\",\"water\",\"other\"]\n",
    "j = 0\n",
    "for i in land_list:\n",
    "    plt.subplot(4,4,j+1)\n",
    "    image_number = df.loc[df['land'] == i][3:4]['image_name'].values\n",
    "    image_path = train_path1+image_number+\".jpg\"\n",
    "    plt.imshow(plt.imread(image_path[0]))\n",
    "    plt.title(str(df[df.image_name == image_number[0]].tags.values))  \n",
    "    j += 1"
   ]
  },
  {
   "cell_type": "markdown",
   "metadata": {},
   "source": [
    "### Observation\n",
    "Image visibility varies. Images with out haze and cloud are much easier to identify the land type. \n",
    "\n",
    "Each picture has multiple labels except for 'Cloudy' tag, which does not appear with other labels. 'Water' is sometimes hard to identify in the images."
   ]
  },
  {
   "cell_type": "code",
   "execution_count": 10,
   "metadata": {},
   "outputs": [
    {
     "data": {
      "application/vnd.plotly.v1+json": {
       "data": [
        {
         "type": "heatmap",
         "uid": "00f3ae98-9789-11e8-8af6-720000bd3e80",
         "x": [
          "conventional_mine",
          "primary",
          "water",
          "road",
          "blooming",
          "agriculture",
          "cloudy",
          "partly_cloudy",
          "slash_burn",
          "cultivation",
          "bare_ground",
          "artisinal_mine",
          "selective_logging",
          "haze",
          "clear",
          "habitation",
          "blow_down"
         ],
         "y": [
          "conventional_mine",
          "primary",
          "water",
          "road",
          "blooming",
          "agriculture",
          "cloudy",
          "partly_cloudy",
          "slash_burn",
          "cultivation",
          "bare_ground",
          "artisinal_mine",
          "selective_logging",
          "haze",
          "clear",
          "habitation",
          "blow_down"
         ],
         "z": [
          [
           1,
           0.94,
           0.26,
           0.59,
           0,
           0.24,
           0,
           0.28,
           0,
           0.04,
           0.1,
           0.04,
           0,
           0.02,
           0.7,
           0.36,
           0
          ],
          [
           0.0025057979900301227,
           1,
           0.18662863540639246,
           0.20600858369098712,
           0.008850265241382988,
           0.31914269719830457,
           0,
           0.19126702743049076,
           0.005571401914003146,
           0.11875883027217231,
           0.01820702156585717,
           0.008637005837976169,
           0.009063524644789807,
           0.07117532588702583,
           0.7375576466824834,
           0.09247460880228188,
           0.0026124276917335325
          ],
          [
           0.0035082984752395087,
           0.9446768317366078,
           1,
           0.28673593307245987,
           0.002158952907839698,
           0.36594251787882875,
           0,
           0.17474025097827553,
           0.0032384293617595465,
           0.1171231952503036,
           0.02779651868843611,
           0.04034543246525435,
           0.006611793280259074,
           0.08271488328160842,
           0.7424099311833761,
           0.12346511941708271,
           0.0004048036702199433
          ],
          [
           0.0073101226613802505,
           0.9575021682567216,
           0.2632883161937802,
           1,
           0.0012390038409119068,
           0.7476149176062445,
           0,
           0.17123033081402553,
           0.0044604138272828645,
           0.16032709701400075,
           0.040019824061454594,
           0.013629042250030974,
           0.018708957997769792,
           0.04881675133192913,
           0.7799529178540453,
           0.34518647007805725,
           0.00024780076818238137
          ],
          [
           0,
           1,
           0.04819277108433735,
           0.030120481927710843,
           1,
           0.0963855421686747,
           0,
           0.05120481927710843,
           0.006024096385542169,
           0.10542168674698796,
           0.009036144578313253,
           0,
           0.02108433734939759,
           0.012048192771084338,
           0.9367469879518072,
           0.012048192771084338,
           0.0030120481927710845
          ],
          [
           0.00194884287454324,
           0.9721477872513196,
           0.22021924482338612,
           0.4899715793747462,
           0.002598457166057653,
           1,
           0,
           0.20243605359317904,
           0.009663012586276899,
           0.2742184328055217,
           0.018270401948842874,
           0.0030856678846934633,
           0.005278116118554608,
           0.05456760048721072,
           0.7429963459196103,
           0.22224928948436865,
           0.0017864393016646365
          ],
          [
           0,
           0,
           0,
           0,
           0,
           0,
           1,
           0,
           0,
           0,
           0,
           0,
           0,
           0,
           0,
           0,
           0
          ],
          [
           0.0038562181517697285,
           0.988155901390993,
           0.17835008951934994,
           0.1903319102052059,
           0.002341275306431621,
           0.34334113758435475,
           0,
           1,
           0.004544828536014323,
           0.10301611348299132,
           0.010191433686819996,
           0.00371849607492081,
           0.00371849607492081,
           0,
           0,
           0.060735435890373224,
           0.0017903869990359455
          ],
          [
           0,
           1,
           0.11483253588516747,
           0.1722488038277512,
           0.009569377990430622,
           0.569377990430622,
           0,
           0.15789473684210525,
           1,
           0.6028708133971292,
           0.04784688995215311,
           0,
           0.009569377990430622,
           0.014354066985645933,
           0.8277511961722488,
           0.19617224880382775,
           0.009569377990430622
          ],
          [
           0.0008934554389099843,
           0.995085995085995,
           0.1938798302434666,
           0.28903283448737993,
           0.007817735090462363,
           0.7542997542997543,
           0,
           0.16707616707616707,
           0.028143846325664506,
           1,
           0.019879383515747154,
           0.0040205494750949295,
           0.012955103864194774,
           0.04511949966495421,
           0.7878043332588787,
           0.199910654456109,
           0.0017869108778199687
          ],
          [
           0.01160092807424594,
           0.7923433874709976,
           0.23897911832946636,
           0.37470997679814383,
           0.0034802784222737818,
           0.26102088167053367,
           0,
           0.08584686774941995,
           0.01160092807424594,
           0.10324825986078887,
           1,
           0.04640371229698376,
           0.015081206496519721,
           0.04756380510440835,
           0.8665893271461717,
           0.18909512761020883,
           0.004640371229698376
          ],
          [
           0.011799410029498525,
           0.9557522123893806,
           0.8820058997050148,
           0.32448377581120946,
           0,
           0.11209439528023599,
           0,
           0.07964601769911504,
           0,
           0.05309734513274336,
           0.11799410029498525,
           1,
           0.017699115044247787,
           0.014749262536873156,
           0.9056047197640118,
           0.0855457227138643,
           0
          ],
          [
           0,
           1,
           0.14411764705882352,
           0.4441176470588235,
           0.020588235294117647,
           0.19117647058823528,
           0,
           0.07941176470588235,
           0.0058823529411764705,
           0.17058823529411765,
           0.03823529411764706,
           0.01764705882352941,
           1,
           0.014705882352941176,
           0.9058823529411765,
           0.03823529411764706,
           0.0029411764705882353
          ],
          [
           0.0007415647015202076,
           0.9899888765294772,
           0.22728958101594365,
           0.1460882461994809,
           0.0014831294030404152,
           0.24916573971078976,
           0,
           0,
           0.0011123470522803114,
           0.07489803485354098,
           0.015202076381164257,
           0.0018539117538005192,
           0.0018539117538005192,
           1,
           0,
           0.047830923248053395,
           0
          ],
          [
           0.0024621012275333263,
           0.9731630966198868,
           0.19352115648411944,
           0.22141324610460414,
           0.010938764025183779,
           0.3218318033132848,
           0,
           0,
           0.006084907319475221,
           0.1240547289930006,
           0.026274137385248496,
           0.010798072526467589,
           0.010833245401146635,
           0,
           1,
           0.10868418275825684,
           0.002989694347719039
          ],
          [
           0.009836065573770493,
           0.9478142076502732,
           0.25,
           0.7612021857923498,
           0.001092896174863388,
           0.7478142076502732,
           0,
           0.12049180327868853,
           0.011202185792349727,
           0.24453551912568305,
           0.04453551912568306,
           0.007923497267759563,
           0.003551912568306011,
           0.03524590163934426,
           0.8442622950819673,
           1,
           0.000819672131147541
          ],
          [
           0,
           1,
           0.030612244897959183,
           0.02040816326530612,
           0.01020408163265306,
           0.22448979591836735,
           0,
           0.1326530612244898,
           0.02040816326530612,
           0.08163265306122448,
           0.04081632653061224,
           0,
           0.01020408163265306,
           0,
           0.8673469387755102,
           0.030612244897959183,
           1
          ]
         ]
        }
       ],
       "layout": {}
      },
      "text/html": [
       "<div id=\"2bf13fe5-6d77-4b7f-bd1e-b99eee780507\" style=\"height: 525px; width: 100%;\" class=\"plotly-graph-div\"></div><script type=\"text/javascript\">require([\"plotly\"], function(Plotly) { window.PLOTLYENV=window.PLOTLYENV || {};window.PLOTLYENV.BASE_URL=\"https://plot.ly\";Plotly.newPlot(\"2bf13fe5-6d77-4b7f-bd1e-b99eee780507\", [{\"y\": [\"conventional_mine\", \"primary\", \"water\", \"road\", \"blooming\", \"agriculture\", \"cloudy\", \"partly_cloudy\", \"slash_burn\", \"cultivation\", \"bare_ground\", \"artisinal_mine\", \"selective_logging\", \"haze\", \"clear\", \"habitation\", \"blow_down\"], \"z\": [[1.0, 0.94, 0.26, 0.59, 0.0, 0.24, 0.0, 0.28, 0.0, 0.04, 0.1, 0.04, 0.0, 0.02, 0.7, 0.36, 0.0], [0.0025057979900301227, 1.0, 0.18662863540639246, 0.20600858369098712, 0.008850265241382988, 0.31914269719830457, 0.0, 0.19126702743049076, 0.005571401914003146, 0.11875883027217231, 0.01820702156585717, 0.008637005837976169, 0.009063524644789807, 0.07117532588702583, 0.7375576466824834, 0.09247460880228188, 0.0026124276917335325], [0.0035082984752395087, 0.9446768317366078, 1.0, 0.28673593307245987, 0.002158952907839698, 0.36594251787882875, 0.0, 0.17474025097827553, 0.0032384293617595465, 0.1171231952503036, 0.02779651868843611, 0.04034543246525435, 0.006611793280259074, 0.08271488328160842, 0.7424099311833761, 0.12346511941708271, 0.0004048036702199433], [0.0073101226613802505, 0.9575021682567216, 0.2632883161937802, 1.0, 0.0012390038409119068, 0.7476149176062445, 0.0, 0.17123033081402553, 0.0044604138272828645, 0.16032709701400075, 0.040019824061454594, 0.013629042250030974, 0.018708957997769792, 0.04881675133192913, 0.7799529178540453, 0.34518647007805725, 0.00024780076818238137], [0.0, 1.0, 0.04819277108433735, 0.030120481927710843, 1.0, 0.0963855421686747, 0.0, 0.05120481927710843, 0.006024096385542169, 0.10542168674698796, 0.009036144578313253, 0.0, 0.02108433734939759, 0.012048192771084338, 0.9367469879518072, 0.012048192771084338, 0.0030120481927710845], [0.00194884287454324, 0.9721477872513196, 0.22021924482338612, 0.4899715793747462, 0.002598457166057653, 1.0, 0.0, 0.20243605359317904, 0.009663012586276899, 0.2742184328055217, 0.018270401948842874, 0.0030856678846934633, 0.005278116118554608, 0.05456760048721072, 0.7429963459196103, 0.22224928948436865, 0.0017864393016646365], [0.0, 0.0, 0.0, 0.0, 0.0, 0.0, 1.0, 0.0, 0.0, 0.0, 0.0, 0.0, 0.0, 0.0, 0.0, 0.0, 0.0], [0.0038562181517697285, 0.988155901390993, 0.17835008951934994, 0.1903319102052059, 0.002341275306431621, 0.34334113758435475, 0.0, 1.0, 0.004544828536014323, 0.10301611348299132, 0.010191433686819996, 0.00371849607492081, 0.00371849607492081, 0.0, 0.0, 0.060735435890373224, 0.0017903869990359455], [0.0, 1.0, 0.11483253588516747, 0.1722488038277512, 0.009569377990430622, 0.569377990430622, 0.0, 0.15789473684210525, 1.0, 0.6028708133971292, 0.04784688995215311, 0.0, 0.009569377990430622, 0.014354066985645933, 0.8277511961722488, 0.19617224880382775, 0.009569377990430622], [0.0008934554389099843, 0.995085995085995, 0.1938798302434666, 0.28903283448737993, 0.007817735090462363, 0.7542997542997543, 0.0, 0.16707616707616707, 0.028143846325664506, 1.0, 0.019879383515747154, 0.0040205494750949295, 0.012955103864194774, 0.04511949966495421, 0.7878043332588787, 0.199910654456109, 0.0017869108778199687], [0.01160092807424594, 0.7923433874709976, 0.23897911832946636, 0.37470997679814383, 0.0034802784222737818, 0.26102088167053367, 0.0, 0.08584686774941995, 0.01160092807424594, 0.10324825986078887, 1.0, 0.04640371229698376, 0.015081206496519721, 0.04756380510440835, 0.8665893271461717, 0.18909512761020883, 0.004640371229698376], [0.011799410029498525, 0.9557522123893806, 0.8820058997050148, 0.32448377581120946, 0.0, 0.11209439528023599, 0.0, 0.07964601769911504, 0.0, 0.05309734513274336, 0.11799410029498525, 1.0, 0.017699115044247787, 0.014749262536873156, 0.9056047197640118, 0.0855457227138643, 0.0], [0.0, 1.0, 0.14411764705882352, 0.4441176470588235, 0.020588235294117647, 0.19117647058823528, 0.0, 0.07941176470588235, 0.0058823529411764705, 0.17058823529411765, 0.03823529411764706, 0.01764705882352941, 1.0, 0.014705882352941176, 0.9058823529411765, 0.03823529411764706, 0.0029411764705882353], [0.0007415647015202076, 0.9899888765294772, 0.22728958101594365, 0.1460882461994809, 0.0014831294030404152, 0.24916573971078976, 0.0, 0.0, 0.0011123470522803114, 0.07489803485354098, 0.015202076381164257, 0.0018539117538005192, 0.0018539117538005192, 1.0, 0.0, 0.047830923248053395, 0.0], [0.0024621012275333263, 0.9731630966198868, 0.19352115648411944, 0.22141324610460414, 0.010938764025183779, 0.3218318033132848, 0.0, 0.0, 0.006084907319475221, 0.1240547289930006, 0.026274137385248496, 0.010798072526467589, 0.010833245401146635, 0.0, 1.0, 0.10868418275825684, 0.002989694347719039], [0.009836065573770493, 0.9478142076502732, 0.25, 0.7612021857923498, 0.001092896174863388, 0.7478142076502732, 0.0, 0.12049180327868853, 0.011202185792349727, 0.24453551912568305, 0.04453551912568306, 0.007923497267759563, 0.003551912568306011, 0.03524590163934426, 0.8442622950819673, 1.0, 0.000819672131147541], [0.0, 1.0, 0.030612244897959183, 0.02040816326530612, 0.01020408163265306, 0.22448979591836735, 0.0, 0.1326530612244898, 0.02040816326530612, 0.08163265306122448, 0.04081632653061224, 0.0, 0.01020408163265306, 0.0, 0.8673469387755102, 0.030612244897959183, 1.0]], \"uid\": \"0118487a-9789-11e8-bfd4-720000bd3e80\", \"x\": [\"conventional_mine\", \"primary\", \"water\", \"road\", \"blooming\", \"agriculture\", \"cloudy\", \"partly_cloudy\", \"slash_burn\", \"cultivation\", \"bare_ground\", \"artisinal_mine\", \"selective_logging\", \"haze\", \"clear\", \"habitation\", \"blow_down\"], \"type\": \"heatmap\"}], {}, {\"showLink\": true, \"linkText\": \"Export to plot.ly\"})});</script>"
      ],
      "text/vnd.plotly.v1+html": [
       "<div id=\"2bf13fe5-6d77-4b7f-bd1e-b99eee780507\" style=\"height: 525px; width: 100%;\" class=\"plotly-graph-div\"></div><script type=\"text/javascript\">require([\"plotly\"], function(Plotly) { window.PLOTLYENV=window.PLOTLYENV || {};window.PLOTLYENV.BASE_URL=\"https://plot.ly\";Plotly.newPlot(\"2bf13fe5-6d77-4b7f-bd1e-b99eee780507\", [{\"y\": [\"conventional_mine\", \"primary\", \"water\", \"road\", \"blooming\", \"agriculture\", \"cloudy\", \"partly_cloudy\", \"slash_burn\", \"cultivation\", \"bare_ground\", \"artisinal_mine\", \"selective_logging\", \"haze\", \"clear\", \"habitation\", \"blow_down\"], \"z\": [[1.0, 0.94, 0.26, 0.59, 0.0, 0.24, 0.0, 0.28, 0.0, 0.04, 0.1, 0.04, 0.0, 0.02, 0.7, 0.36, 0.0], [0.0025057979900301227, 1.0, 0.18662863540639246, 0.20600858369098712, 0.008850265241382988, 0.31914269719830457, 0.0, 0.19126702743049076, 0.005571401914003146, 0.11875883027217231, 0.01820702156585717, 0.008637005837976169, 0.009063524644789807, 0.07117532588702583, 0.7375576466824834, 0.09247460880228188, 0.0026124276917335325], [0.0035082984752395087, 0.9446768317366078, 1.0, 0.28673593307245987, 0.002158952907839698, 0.36594251787882875, 0.0, 0.17474025097827553, 0.0032384293617595465, 0.1171231952503036, 0.02779651868843611, 0.04034543246525435, 0.006611793280259074, 0.08271488328160842, 0.7424099311833761, 0.12346511941708271, 0.0004048036702199433], [0.0073101226613802505, 0.9575021682567216, 0.2632883161937802, 1.0, 0.0012390038409119068, 0.7476149176062445, 0.0, 0.17123033081402553, 0.0044604138272828645, 0.16032709701400075, 0.040019824061454594, 0.013629042250030974, 0.018708957997769792, 0.04881675133192913, 0.7799529178540453, 0.34518647007805725, 0.00024780076818238137], [0.0, 1.0, 0.04819277108433735, 0.030120481927710843, 1.0, 0.0963855421686747, 0.0, 0.05120481927710843, 0.006024096385542169, 0.10542168674698796, 0.009036144578313253, 0.0, 0.02108433734939759, 0.012048192771084338, 0.9367469879518072, 0.012048192771084338, 0.0030120481927710845], [0.00194884287454324, 0.9721477872513196, 0.22021924482338612, 0.4899715793747462, 0.002598457166057653, 1.0, 0.0, 0.20243605359317904, 0.009663012586276899, 0.2742184328055217, 0.018270401948842874, 0.0030856678846934633, 0.005278116118554608, 0.05456760048721072, 0.7429963459196103, 0.22224928948436865, 0.0017864393016646365], [0.0, 0.0, 0.0, 0.0, 0.0, 0.0, 1.0, 0.0, 0.0, 0.0, 0.0, 0.0, 0.0, 0.0, 0.0, 0.0, 0.0], [0.0038562181517697285, 0.988155901390993, 0.17835008951934994, 0.1903319102052059, 0.002341275306431621, 0.34334113758435475, 0.0, 1.0, 0.004544828536014323, 0.10301611348299132, 0.010191433686819996, 0.00371849607492081, 0.00371849607492081, 0.0, 0.0, 0.060735435890373224, 0.0017903869990359455], [0.0, 1.0, 0.11483253588516747, 0.1722488038277512, 0.009569377990430622, 0.569377990430622, 0.0, 0.15789473684210525, 1.0, 0.6028708133971292, 0.04784688995215311, 0.0, 0.009569377990430622, 0.014354066985645933, 0.8277511961722488, 0.19617224880382775, 0.009569377990430622], [0.0008934554389099843, 0.995085995085995, 0.1938798302434666, 0.28903283448737993, 0.007817735090462363, 0.7542997542997543, 0.0, 0.16707616707616707, 0.028143846325664506, 1.0, 0.019879383515747154, 0.0040205494750949295, 0.012955103864194774, 0.04511949966495421, 0.7878043332588787, 0.199910654456109, 0.0017869108778199687], [0.01160092807424594, 0.7923433874709976, 0.23897911832946636, 0.37470997679814383, 0.0034802784222737818, 0.26102088167053367, 0.0, 0.08584686774941995, 0.01160092807424594, 0.10324825986078887, 1.0, 0.04640371229698376, 0.015081206496519721, 0.04756380510440835, 0.8665893271461717, 0.18909512761020883, 0.004640371229698376], [0.011799410029498525, 0.9557522123893806, 0.8820058997050148, 0.32448377581120946, 0.0, 0.11209439528023599, 0.0, 0.07964601769911504, 0.0, 0.05309734513274336, 0.11799410029498525, 1.0, 0.017699115044247787, 0.014749262536873156, 0.9056047197640118, 0.0855457227138643, 0.0], [0.0, 1.0, 0.14411764705882352, 0.4441176470588235, 0.020588235294117647, 0.19117647058823528, 0.0, 0.07941176470588235, 0.0058823529411764705, 0.17058823529411765, 0.03823529411764706, 0.01764705882352941, 1.0, 0.014705882352941176, 0.9058823529411765, 0.03823529411764706, 0.0029411764705882353], [0.0007415647015202076, 0.9899888765294772, 0.22728958101594365, 0.1460882461994809, 0.0014831294030404152, 0.24916573971078976, 0.0, 0.0, 0.0011123470522803114, 0.07489803485354098, 0.015202076381164257, 0.0018539117538005192, 0.0018539117538005192, 1.0, 0.0, 0.047830923248053395, 0.0], [0.0024621012275333263, 0.9731630966198868, 0.19352115648411944, 0.22141324610460414, 0.010938764025183779, 0.3218318033132848, 0.0, 0.0, 0.006084907319475221, 0.1240547289930006, 0.026274137385248496, 0.010798072526467589, 0.010833245401146635, 0.0, 1.0, 0.10868418275825684, 0.002989694347719039], [0.009836065573770493, 0.9478142076502732, 0.25, 0.7612021857923498, 0.001092896174863388, 0.7478142076502732, 0.0, 0.12049180327868853, 0.011202185792349727, 0.24453551912568305, 0.04453551912568306, 0.007923497267759563, 0.003551912568306011, 0.03524590163934426, 0.8442622950819673, 1.0, 0.000819672131147541], [0.0, 1.0, 0.030612244897959183, 0.02040816326530612, 0.01020408163265306, 0.22448979591836735, 0.0, 0.1326530612244898, 0.02040816326530612, 0.08163265306122448, 0.04081632653061224, 0.0, 0.01020408163265306, 0.0, 0.8673469387755102, 0.030612244897959183, 1.0]], \"uid\": \"0118487a-9789-11e8-bfd4-720000bd3e80\", \"x\": [\"conventional_mine\", \"primary\", \"water\", \"road\", \"blooming\", \"agriculture\", \"cloudy\", \"partly_cloudy\", \"slash_burn\", \"cultivation\", \"bare_ground\", \"artisinal_mine\", \"selective_logging\", \"haze\", \"clear\", \"habitation\", \"blow_down\"], \"type\": \"heatmap\"}], {}, {\"showLink\": true, \"linkText\": \"Export to plot.ly\"})});</script>"
      ]
     },
     "metadata": {},
     "output_type": "display_data"
    }
   ],
   "source": [
    "#Display counts of weather and land labels\n",
    "df[\"combined_tags\"] = df[\"weather\"] + \" \" + df[\"land\"]\n",
    "labels = df['combined_tags'].apply(lambda x: x.split(' '))\n",
    "all_tags = [item for sublist in list(labels.values) for item in sublist]\n",
    "labels_s = pd.Series(all_tags).value_counts() # To sort them by count\n",
    "fig, ax = plt.subplots(figsize=(8, 4))\n",
    "sns.barplot(x=labels_s, y=labels_s.index, orient='h', order = ['haze', 'partly_cloudy', 'cloudy', 'clear','primary', 'water', 'other'])"
   ]
  },
  {
   "cell_type": "markdown",
   "metadata": {},
   "source": [
    "### Observation\n",
    "The majority pictures have 'Clear' weather and 'Primary' land type. \n",
    "\n",
    "There are very few pictures have the 'Water' tag."
   ]
  },
  {
   "cell_type": "code",
   "execution_count": null,
   "metadata": {
    "collapsed": true
   },
   "outputs": [],
   "source": [
    "#Display correlation between labels \n",
    "counts = defaultdict(int)\n",
    "for l in labels:\n",
    "    for l2 in l:\n",
    "        counts[l2] += 1\n",
    "\n",
    "com = np.zeros([len(counts)]*2)\n",
    "for i, l in enumerate(list(counts.keys())):\n",
    "    for i2, l2 in enumerate(list(counts.keys())):\n",
    "        c = 0\n",
    "        cy = 0\n",
    "        for row in labels.values:\n",
    "            if l in row:\n",
    "                c += 1\n",
    "                if l2 in row: cy += 1\n",
    "        com[i, i2] = cy / c\n",
    "\n",
    "data=[go.Heatmap(z=com, x=list(counts.keys()), y=list(counts.keys()))]\n",
    "layout=go.Layout(height=600, width=600, title='Co-occurence matrix of training labels')\n",
    "fig=dict(data=data, layout=layout)\n",
    "py.iplot(data, filename='train-com')"
   ]
  },
  {
   "cell_type": "markdown",
   "metadata": {},
   "source": [
    "### Observation\n",
    "\n",
    "'Primary' land type has high correlation with all weather tags except for \"Cloudy\". Most \"Cloudy\" pictures have \"Other\" land type. \n",
    "\n",
    "\"Water\" land type is highly correlated with \"Clear\" tag."
   ]
  },
  {
   "cell_type": "markdown",
   "metadata": {},
   "source": [
    "Static features including volume of colours can be extracted using the following logic:\n",
    "* Green = Trees/Vegetation\n",
    "* Blue = Water\n",
    "* White = Clouds\n",
    "\n",
    "The higher the pixel value, the higher the intensity of the colors. Variance in the colors indicate feature differences in the image."
   ]
  },
  {
   "cell_type": "code",
   "execution_count": 12,
   "metadata": {
    "collapsed": true
   },
   "outputs": [],
   "source": [
    "##extract_basic-stats about image\n",
    "stats_flat=np.reshape(data_jpgs,(data_jpgs.shape[0],4096,3))\n",
    "jpg_stats=np.zeros((stats_flat.shape[0],75))\n",
    "for i in range(stats_flat.shape[0]):\n",
    "    jpg_stats[i,0:3]=np.average(stats_flat[i],axis=0)\n",
    "    jpg_stats[i,3:6]=np.var(stats_flat[i],axis=0)\n",
    "    jpg_stats[i,6:9]=np.std(stats_flat[i],axis=0)\n",
    "    kurt_skew=np.zeros((6,))\n",
    "    \n",
    "    for j in range(3):\n",
    "        kurt_skew[j]=scipy.stats.kurtosis(data_jpgs[i,:,:,j].ravel())\n",
    "        kurt_skew[j]=scipy.stats.skew(data_jpgs[i,:,:,j].ravel())\n",
    "    jpg_stats[i,9:15]=kurt_skew\n",
    "    jpg_stats[i,15:35]=np.array(np.histogram(data_jpgs[1,:,:,0],bins=20, range=(0,1))[0])\n",
    "    jpg_stats[i,35:55]=np.array(np.histogram(data_jpgs[1,:,:,1],bins=20, range=(0,1))[0])\n",
    "    jpg_stats[i,55:75]=np.array(np.histogram(data_jpgs[1,:,:,2],bins=20, range=(0,1))[0])"
   ]
  },
  {
   "cell_type": "code",
   "execution_count": 19,
   "metadata": {},
   "outputs": [
    {
     "name": "stdout",
     "output_type": "stream",
     "text": [
      "The mean color intensity is:  0.32\n",
      "The mean color variance is:  0.003\n",
      "The mean color standard deviation is:  0.043\n"
     ]
    },
    {
     "data": {
      "image/png": "[encoded data removed]",
      "text/plain": [
       "<Figure size 432x288 with 1 Axes>"
      ]
     },
     "metadata": {},
     "output_type": "display_data"
    }
   ],
   "source": [
    "print('The mean color intensity is: ', round(jpg_stats[:,0:3].mean(), 2))\n",
    "plt.hist(jpg_stats[:,0:3])\n",
    "print('The mean color variance is: ', round(jpg_stats[:,3:6].mean(), 3))\n",
    "print('The mean color standard deviation is: ', round(jpg_stats[:,6:9].mean(), 3))\n"
   ]
  },
  {
   "cell_type": "markdown",
   "metadata": {},
   "source": [
    "Edge detection in the images can be analyzed using the following parameters:\n",
    "* Laplacian outputs the color gradients in the images\n",
    "* Sobel outputs the edges of the color gradients in the x or the y directions\n",
    "\n",
    "The following distributions shows that majority of the pictures may not have large color gradients. As a result, many of the images are dominated by their respective label components and relatively few satellite images contain edges."
   ]
  },
  {
   "cell_type": "code",
   "execution_count": 20,
   "metadata": {
    "collapsed": true
   },
   "outputs": [],
   "source": [
    "##extract edge data from images\n",
    "edge_stats=np.zeros((stats_flat.shape[0],6))\n",
    "for i in range(stats_flat.shape[0]):\n",
    "    edge_stats[i,0]=cv2.Laplacian(data_jpgs[i], cv2.CV_64F).mean()\n",
    "    edge_stats[i,1]=cv2.Laplacian(data_jpgs[i], cv2.CV_64F).var()\n",
    "    edge_stats[i,2]=cv2.Sobel(data_jpgs[i],cv2.CV_64F,1,0,ksize=5).var()\n",
    "    edge_stats[i,3]=cv2.Sobel(data_jpgs[i],cv2.CV_64F,1,0,ksize=5).mean()\n",
    "    edge_stats[i,4]=cv2.Sobel(data_jpgs[i],cv2.CV_64F,0,1,ksize=5).mean()\n",
    "    edge_stats[i,5]=cv2.Sobel(data_jpgs[i],cv2.CV_64F,0,1,ksize=5).var()"
   ]
  },
  {
   "cell_type": "code",
   "execution_count": 26,
   "metadata": {},
   "outputs": [
    {
     "data": {
      "text/plain": [
       "(array([2.0000e+00, 4.0000e+00, 4.8000e+01, 5.5900e+02, 1.8670e+04,\n",
       "        2.0043e+04, 6.0500e+02, 6.5000e+01, 3.0000e+00, 1.0000e+00]),\n",
       " array([-2.18856911e-03, -1.75269831e-03, -1.31682751e-03, -8.80956712e-04,\n",
       "        -4.45085912e-04, -9.21511183e-06,  4.26655688e-04,  8.62526488e-04,\n",
       "         1.29839729e-03,  1.73426809e-03,  2.17013889e-03]),\n",
       " <a list of 10 Patch objects>)"
      ]
     },
     "execution_count": 26,
     "metadata": {},
     "output_type": "execute_result"
    },
    {
     "data": {
      "image/png": "[encoded data removed]",
      "text/plain": [
       "<Figure size 432x288 with 1 Axes>"
      ]
     },
     "metadata": {},
     "output_type": "display_data"
    }
   ],
   "source": [
    "plt.hist(edge_stats[:,0])"
   ]
  },
  {
   "cell_type": "code",
   "execution_count": 30,
   "metadata": {},
   "outputs": [
    {
     "data": {
      "text/plain": [
       "(array([1.0000e+00, 9.0000e+00, 7.9000e+01, 3.6600e+02, 3.4070e+03,\n",
       "        3.4277e+04, 1.5600e+03, 2.4400e+02, 5.0000e+01, 7.0000e+00]),\n",
       " array([-1.50888233, -1.22762907, -0.9463758 , -0.66512254, -0.38386928,\n",
       "        -0.10261601,  0.17863725,  0.45989051,  0.74114377,  1.02239704,\n",
       "         1.3036503 ]),\n",
       " <a list of 10 Patch objects>)"
      ]
     },
     "execution_count": 30,
     "metadata": {},
     "output_type": "execute_result"
    },
    {
     "data": {
      "image/png": "[encoded data removed]",
      "text/plain": [
       "<Figure size 432x288 with 1 Axes>"
      ]
     },
     "metadata": {},
     "output_type": "display_data"
    }
   ],
   "source": [
    "plt.hist(edge_stats[:,3:4])"
   ]
  },
  {
   "cell_type": "markdown",
   "metadata": {},
   "source": [
    "## Split training and test sets [jpg]\n",
    "The first 30000 samples will be allocated to the training set while the remaining samples will be allocated to the test set. Randomization is not required since prior ordering is unknown."
   ]
  },
  {
   "cell_type": "code",
   "execution_count": 53,
   "metadata": {},
   "outputs": [
    {
     "name": "stdout",
     "output_type": "stream",
     "text": [
      "        image_name                                               tags  \\\n",
      "0          train_0                                       haze primary   \n",
      "1          train_1                    agriculture clear primary water   \n",
      "2          train_2                                      clear primary   \n",
      "3          train_3                                      clear primary   \n",
      "4          train_4          agriculture clear habitation primary road   \n",
      "5          train_5                                 haze primary water   \n",
      "6          train_6        agriculture clear cultivation primary water   \n",
      "7          train_7                                       haze primary   \n",
      "8          train_8              agriculture clear cultivation primary   \n",
      "9          train_9         agriculture clear cultivation primary road   \n",
      "10        train_10         agriculture clear primary slash_burn water   \n",
      "11        train_11                                clear primary water   \n",
      "12        train_12                                             cloudy   \n",
      "13        train_13                                      clear primary   \n",
      "14        train_14                                             cloudy   \n",
      "15        train_15                                      clear primary   \n",
      "16        train_16                                      clear primary   \n",
      "17        train_17                              partly_cloudy primary   \n",
      "18        train_18                                      clear primary   \n",
      "19        train_19                     agriculture clear primary road   \n",
      "20        train_20                    agriculture clear primary water   \n",
      "21        train_21                           clear primary road water   \n",
      "22        train_22                              partly_cloudy primary   \n",
      "23        train_23                     agriculture clear primary road   \n",
      "24        train_24            conventional_mine partly_cloudy primary   \n",
      "25        train_25                                      clear primary   \n",
      "26        train_26                                             cloudy   \n",
      "27        train_27            agriculture partly_cloudy primary water   \n",
      "28        train_28                                      clear primary   \n",
      "29        train_29                              partly_cloudy primary   \n",
      "...            ...                                                ...   \n",
      "40449  train_40449                                clear primary water   \n",
      "40450  train_40450  agriculture cultivation partly_cloudy primary ...   \n",
      "40451  train_40451                                      clear primary   \n",
      "40452  train_40452                                      clear primary   \n",
      "40453  train_40453                       artisinal_mine clear primary   \n",
      "40454  train_40454                                      clear primary   \n",
      "40455  train_40455  agriculture partly_cloudy primary road convent...   \n",
      "40456  train_40456                                      clear primary   \n",
      "40457  train_40457         clear primary road selective_logging water   \n",
      "40458  train_40458                     agriculture clear primary road   \n",
      "40459  train_40459                                clear primary water   \n",
      "40460  train_40460                                      clear primary   \n",
      "40461  train_40461                                             cloudy   \n",
      "40462  train_40462                                      clear primary   \n",
      "40463  train_40463                           agriculture haze primary   \n",
      "40464  train_40464             agriculture partly_cloudy primary road   \n",
      "40465  train_40465                            blow_down clear primary   \n",
      "40466  train_40466                                      clear primary   \n",
      "40467  train_40467                     agriculture clear primary road   \n",
      "40468  train_40468                          agriculture clear primary   \n",
      "40469  train_40469                                 haze primary water   \n",
      "40470  train_40470                      clear habitation primary road   \n",
      "40471  train_40471                                      clear primary   \n",
      "40472  train_40472                          agriculture clear primary   \n",
      "40473  train_40473          agriculture clear habitation primary road   \n",
      "40474  train_40474                                      clear primary   \n",
      "40475  train_40475                                             cloudy   \n",
      "40476  train_40476                          agriculture clear primary   \n",
      "40477  train_40477                     agriculture clear primary road   \n",
      "40478  train_40478      agriculture cultivation partly_cloudy primary   \n",
      "\n",
      "                                            simpler_tags        weather  \n",
      "0                                           haze primary           haze  \n",
      "1                        agriculture clear primary water          clear  \n",
      "2                                          clear primary          clear  \n",
      "3                                          clear primary          clear  \n",
      "4              agriculture clear habitation primary road          clear  \n",
      "5                                     haze primary water           haze  \n",
      "6            agriculture clear cultivation primary water          clear  \n",
      "7                                           haze primary           haze  \n",
      "8                  agriculture clear cultivation primary          clear  \n",
      "9             agriculture clear cultivation primary road          clear  \n",
      "10                       agriculture clear primary water          clear  \n",
      "11                                   clear primary water          clear  \n",
      "12                                                cloudy         cloudy  \n",
      "13                                         clear primary          clear  \n",
      "14                                                cloudy         cloudy  \n",
      "15                                         clear primary          clear  \n",
      "16                                         clear primary          clear  \n",
      "17                                 partly_cloudy primary  partly_cloudy  \n",
      "18                                         clear primary          clear  \n",
      "19                        agriculture clear primary road          clear  \n",
      "20                       agriculture clear primary water          clear  \n",
      "21                              clear primary road water          clear  \n",
      "22                                 partly_cloudy primary  partly_cloudy  \n",
      "23                        agriculture clear primary road          clear  \n",
      "24                                 partly_cloudy primary  partly_cloudy  \n",
      "25                                         clear primary          clear  \n",
      "26                                                cloudy         cloudy  \n",
      "27               agriculture partly_cloudy primary water  partly_cloudy  \n",
      "28                                         clear primary          clear  \n",
      "29                                 partly_cloudy primary  partly_cloudy  \n",
      "...                                                  ...            ...  \n",
      "40449                                clear primary water          clear  \n",
      "40450  agriculture cultivation partly_cloudy primary ...  partly_cloudy  \n",
      "40451                                      clear primary          clear  \n",
      "40452                                      clear primary          clear  \n",
      "40453                                      clear primary          clear  \n",
      "40454                                      clear primary          clear  \n",
      "40455             agriculture partly_cloudy primary road  partly_cloudy  \n",
      "40456                                      clear primary          clear  \n",
      "40457                           clear primary road water          clear  \n",
      "40458                     agriculture clear primary road          clear  \n",
      "40459                                clear primary water          clear  \n",
      "40460                                      clear primary          clear  \n",
      "40461                                             cloudy         cloudy  \n",
      "40462                                      clear primary          clear  \n",
      "40463                           agriculture haze primary           haze  \n",
      "40464             agriculture partly_cloudy primary road  partly_cloudy  \n",
      "40465                                      clear primary          clear  \n",
      "40466                                      clear primary          clear  \n",
      "40467                     agriculture clear primary road          clear  \n",
      "40468                          agriculture clear primary          clear  \n",
      "40469                                 haze primary water           haze  \n",
      "40470                      clear habitation primary road          clear  \n",
      "40471                                      clear primary          clear  \n",
      "40472                          agriculture clear primary          clear  \n",
      "40473          agriculture clear habitation primary road          clear  \n",
      "40474                                      clear primary          clear  \n",
      "40475                                             cloudy         cloudy  \n",
      "40476                          agriculture clear primary          clear  \n",
      "40477                     agriculture clear primary road          clear  \n",
      "40478      agriculture cultivation partly_cloudy primary  partly_cloudy  \n",
      "\n",
      "[40479 rows x 4 columns]\n"
     ]
    }
   ],
   "source": [
    "print(df)\n",
    "train_labels_jpgs=np.array(df_tags[:30000])\n",
    "\n",
    "train_data_jpgs=np.zeros((len(train_labels_jpgs),64,64,3))\n",
    "for i in range(len(train_labels_jpgs)):\n",
    "    train_data_jpgs[i,:,:,:]=read_image(\"train_\"+str(i)+\".jpg\")\n",
    "\n",
    "\n",
    "test_labels_jpgs=np.array(df_tags[30000:])\n",
    "\n",
    "test_data_jpgs=np.zeros((len(test_labels_jpgs),64,64,3))\n",
    "for i in range(len(test_labels_jpgs)):\n",
    "    test_data_jpgs[i,:,:,:]=read_image(\"train_\"+str(i)+\".jpg\")"
   ]
  },
  {
   "cell_type": "markdown",
   "metadata": {},
   "source": [
    "## Infrared spectrum analysis\n",
    "\n",
    "Extracting the near-infrared spectrum in the images(tif format) enables the identification of \"hot\" surfaces with varying degrees of heat such as: \n",
    "1. Civilization\n",
    "2. Vegetation\n",
    "3. Large bodies of water\n",
    "\n",
    "Water features can be identified by removing the blue frequency from the near-infrared spectrum: (B-IRR)/(B+IRR) \n",
    "\n",
    "Vegetation features can be identified by removing green frequency from the near-infrared spectrum: (IRR-R)/(R+IRR)"
   ]
  },
  {
   "cell_type": "code",
   "execution_count": 47,
   "metadata": {
    "collapsed": true
   },
   "outputs": [],
   "source": [
    "#extract, vegetation probabilities and water information - show how the data\n",
    "#This take the blue pixels, subtracts the infrared, and divides by the total to indicate water\n",
    "water_tif=(tif_data[:,:,:,0]-tif_data[:,:,:,3])/(tif_data[:,:,:,0]+tif_data[:,:,:,3])\n",
    "#This take the infrared pixels, subtracts the red, and divides by the total to indicate vegetation\n",
    "veg_tif=(tif_data[:,:,:,3]-tif_data[:,:,:,2])/(tif_data[:,:,:,3]+tif_data[:,:,:,2]) "
   ]
  },
  {
   "cell_type": "code",
   "execution_count": 46,
   "metadata": {},
   "outputs": [
    {
     "data": {
      "text/plain": [
       "<matplotlib.image.AxesImage at 0x1c26f914e0>"
      ]
     },
     "execution_count": 46,
     "metadata": {},
     "output_type": "execute_result"
    },
    {
     "data": {
      "image/png": "[encoded data removed]",
      "text/plain": [
       "<Figure size 432x288 with 1 Axes>"
      ]
     },
     "metadata": {},
     "output_type": "display_data"
    }
   ],
   "source": [
    "#Sample vegetation feature identification\n",
    "plt.imshow(veg_tif[18573])"
   ]
  },
  {
   "cell_type": "code",
   "execution_count": 49,
   "metadata": {},
   "outputs": [
    {
     "data": {
      "text/plain": [
       "<matplotlib.image.AxesImage at 0x1eeaaa4908>"
      ]
     },
     "execution_count": 49,
     "metadata": {},
     "output_type": "execute_result"
    },
    {
     "data": {
      "image/png": "[encoded data removed]",
      "text/plain": [
       "<Figure size 432x288 with 1 Axes>"
      ]
     },
     "metadata": {},
     "output_type": "display_data"
    }
   ],
   "source": [
    "#Sample water feature identification\n",
    "plt.imshow(water_tif[10000])"
   ]
  },
  {
   "cell_type": "code",
   "execution_count": 32,
   "metadata": {
    "collapsed": true
   },
   "outputs": [],
   "source": [
    "veg_props=np.zeros((40000,10))\n",
    "for i in range(40000):\n",
    "    #this calculates the ditribution of the index. Lots of values near one indicate lots of trees, \n",
    "    #values between 0-0.4 indicate bare ground\n",
    "    veg_props[i,:]=np.array(np.histogram(veg_tif[i],bins=10, range=(-1,1))[0])\n",
    "water_props=np.zeros((40000,10))\n",
    "for i in range(40000):\n",
    "    water_props[i,:]=np.array(np.histogram(water_tif[i],bins=10, range=(-1,1))[0])"
   ]
  },
  {
   "cell_type": "code",
   "execution_count": 33,
   "metadata": {
    "collapsed": true
   },
   "outputs": [],
   "source": [
    "combined_matrix=np.zeros((40000,101))\n",
    "combined_matrix[:,0:10]=veg_props\n",
    "combined_matrix[:,10:20]=water_props\n",
    "combined_matrix[:,20:95]=jpg_stats\n",
    "combined_matrix[:,95:101]=edge_stats"
   ]
  },
  {
   "cell_type": "markdown",
   "metadata": {},
   "source": [
    "## Split training and test sets [tif]\n",
    "The first 30000 samples will be allocated to the training set while the remaining samples will be allocated to the test set. Randomization is not required since prior ordering is unknown."
   ]
  },
  {
   "cell_type": "code",
   "execution_count": 51,
   "metadata": {
    "collapsed": true
   },
   "outputs": [],
   "source": [
    "#Create test and training datatrain_labels=np.array(df_tags[:30000])\n",
    "train_labels=np.array(df_tags[:30000])\n",
    "train_data=combined_matrix[:30000]\n",
    "\n",
    "test_labels=np.array(df_tags[30000:40000])\n",
    "test_data=combined_matrix[30000:]"
   ]
  },
  {
   "cell_type": "markdown",
   "metadata": {},
   "source": [
    "## Principal component analysis (PCA)\n",
    "\n",
    "PCA speeds up the training of features by choosing the minimum number of components such that 95% of the variance is retained.\n",
    "\n",
    "A logistic regression model is used to further examine the prediction score."
   ]
  },
  {
   "cell_type": "code",
   "execution_count": 43,
   "metadata": {},
   "outputs": [
    {
     "name": "stdout",
     "output_type": "stream",
     "text": [
      "The PCA explained variance ratios for each component are:  [0.59032854 0.25317805 0.08603829 0.07045513]\n",
      "The number of PCA components chosen are:  4\n",
      "CPU times: user 1.25 s, sys: 60.6 ms, total: 1.31 s\n",
      "Wall time: 338 ms\n",
      "The logistic regression score is: 0.7105\n"
     ]
    }
   ],
   "source": [
    "#PCA the training set to potentially reduce the size\n",
    "pca = PCA(.95)\n",
    "pca.fit(train_data)\n",
    "\n",
    "train_data = pca.transform(train_data)\n",
    "test_data = pca.transform(test_data)\n",
    "\n",
    "print('The PCA explained variance ratios for each component are: ', pca.explained_variance_ratio_)\n",
    "print('The number of PCA components chosen are: ', pca.n_components_)\n",
    "\n",
    "\n",
    "#Testing accuracy of logistic Regression with PCA for sample of 1000 images\n",
    "logisticRegr = LogisticRegression(solver = 'lbfgs')\n",
    "%time logisticRegr.fit(train_data, train_labels)\n",
    "logisticRegr.predict(test_data[0:1000])\n",
    "print('The logistic regression score is:', logisticRegr.score(test_data, test_labels))\n"
   ]
  },
  {
   "cell_type": "markdown",
   "metadata": {},
   "source": [
    "## Weather feature identification\n",
    "\n",
    "Weather feature identification is being performed for cloud and haze removal. This facilitates the successive water, land and primary feature identification."
   ]
  },
  {
   "cell_type": "code",
   "execution_count": 78,
   "metadata": {},
   "outputs": [
    {
     "name": "stdout",
     "output_type": "stream",
     "text": [
      "               precision    recall  f1-score   support\n",
      "\n",
      "        clear       0.78      0.95      0.86      7023\n",
      "       cloudy       0.67      0.38      0.48       493\n",
      "         haze       0.58      0.09      0.16       676\n",
      "partly_cloudy       0.64      0.38      0.48      1808\n",
      "\n",
      "  avg / total       0.74      0.76      0.72     10000\n",
      "\n"
     ]
    }
   ],
   "source": [
    "#Logistics Regression\n",
    "model_LG =LogisticRegression()\n",
    "model_LG.fit(train_data, train_labels)\n",
    "LG_predictions=model_LG.predict(test_data)\n",
    "print(classification_report(test_labels,LG_predictions))"
   ]
  },
  {
   "cell_type": "code",
   "execution_count": 77,
   "metadata": {},
   "outputs": [
    {
     "name": "stdout",
     "output_type": "stream",
     "text": [
      "               precision    recall  f1-score   support\n",
      "\n",
      "        clear       0.89      0.94      0.91      7023\n",
      "       cloudy       0.72      0.59      0.65       493\n",
      "         haze       0.60      0.62      0.61       676\n",
      "partly_cloudy       0.79      0.64      0.71      1808\n",
      "\n",
      "  avg / total       0.84      0.85      0.84     10000\n",
      "\n",
      "               precision    recall  f1-score   support\n",
      "\n",
      "        clear       0.91      0.95      0.93      7023\n",
      "       cloudy       0.74      0.70      0.72       493\n",
      "         haze       0.71      0.59      0.65       676\n",
      "partly_cloudy       0.82      0.74      0.78      1808\n",
      "\n",
      "  avg / total       0.87      0.88      0.87     10000\n",
      "\n",
      "               precision    recall  f1-score   support\n",
      "\n",
      "        clear       0.91      0.95      0.93      7023\n",
      "       cloudy       0.75      0.70      0.72       493\n",
      "         haze       0.71      0.56      0.63       676\n",
      "partly_cloudy       0.81      0.75      0.78      1808\n",
      "\n",
      "  avg / total       0.87      0.88      0.87     10000\n",
      "\n",
      "               precision    recall  f1-score   support\n",
      "\n",
      "        clear       0.91      0.95      0.93      7023\n",
      "       cloudy       0.75      0.70      0.72       493\n",
      "         haze       0.71      0.56      0.63       676\n",
      "partly_cloudy       0.81      0.75      0.78      1808\n",
      "\n",
      "  avg / total       0.87      0.88      0.87     10000\n",
      "\n",
      "               precision    recall  f1-score   support\n",
      "\n",
      "        clear       0.91      0.95      0.93      7023\n",
      "       cloudy       0.75      0.70      0.72       493\n",
      "         haze       0.71      0.57      0.63       676\n",
      "partly_cloudy       0.81      0.75      0.78      1808\n",
      "\n",
      "  avg / total       0.87      0.88      0.87     10000\n",
      "\n"
     ]
    }
   ],
   "source": [
    "def dec_tree_model(maxs,data_train,labels_train,data_test,labels_test):\n",
    "    #set the model to take in the k value\n",
    "    model = DecisionTreeClassifier(min_samples_leaf=20, max_depth=maxs)\n",
    "    #fit per the train data\n",
    "    model.fit(data_train, labels_train)\n",
    "    dev_predictions2=model.predict(data_test)\n",
    "    #set by the test data\n",
    "#     score = model.score(data_test, labels_test)\n",
    "    #print the score prettily\n",
    "    return classification_report(labels_test,dev_predictions2)\n",
    "\n",
    "for i in [5,10,20,50,100]:\n",
    "    print(\"K-branch levels\" + str(i))\n",
    "    print(dec_tree_model(i,train_data,train_labels,test_data,test_labels))"
   ]
  },
  {
   "cell_type": "code",
   "execution_count": 86,
   "metadata": {},
   "outputs": [
    {
     "name": "stdout",
     "output_type": "stream",
     "text": [
      "K-branch levels5\n",
      "               precision    recall  f1-score   support\n",
      "\n",
      "        clear       0.85      0.97      0.91      7023\n",
      "       cloudy       0.72      0.58      0.64       493\n",
      "         haze       0.72      0.44      0.55       676\n",
      "partly_cloudy       0.85      0.53      0.65      1808\n",
      "\n",
      "  avg / total       0.83      0.84      0.82     10000\n",
      "\n",
      "K-branch levels10\n",
      "               precision    recall  f1-score   support\n",
      "\n",
      "        clear       0.90      0.98      0.94      7023\n",
      "       cloudy       0.77      0.74      0.75       493\n",
      "         haze       0.79      0.56      0.66       676\n",
      "partly_cloudy       0.88      0.71      0.78      1808\n",
      "\n",
      "  avg / total       0.88      0.89      0.88     10000\n",
      "\n",
      "K-branch levels20\n",
      "               precision    recall  f1-score   support\n",
      "\n",
      "        clear       0.92      0.97      0.94      7023\n",
      "       cloudy       0.77      0.76      0.76       493\n",
      "         haze       0.78      0.57      0.66       676\n",
      "partly_cloudy       0.88      0.76      0.81      1808\n",
      "\n",
      "  avg / total       0.89      0.90      0.89     10000\n",
      "\n",
      "K-branch levels50\n",
      "               precision    recall  f1-score   support\n",
      "\n",
      "        clear       0.92      0.97      0.94      7023\n",
      "       cloudy       0.80      0.73      0.76       493\n",
      "         haze       0.76      0.61      0.67       676\n",
      "partly_cloudy       0.87      0.75      0.81      1808\n",
      "\n",
      "  avg / total       0.89      0.90      0.89     10000\n",
      "\n",
      "K-branch levels100\n",
      "               precision    recall  f1-score   support\n",
      "\n",
      "        clear       0.92      0.97      0.94      7023\n",
      "       cloudy       0.76      0.76      0.76       493\n",
      "         haze       0.77      0.59      0.66       676\n",
      "partly_cloudy       0.87      0.75      0.81      1808\n",
      "\n",
      "  avg / total       0.89      0.89      0.89     10000\n",
      "\n"
     ]
    }
   ],
   "source": [
    "def random_forest_model(maxs,data_train,labels_train,data_test,labels_test):\n",
    "    #set the model to take in the k value\n",
    "    model = RandomForestClassifier(n_estimators=20, max_depth=maxs, min_samples_split=2, min_samples_leaf=5)\n",
    "     #fit per the train data\n",
    "    model.fit(data_train, labels_train)\n",
    "    dev_predictions2=model.predict(data_test)\n",
    "    #set by the test data\n",
    "#     score = model.score(data_test, labels_test)\n",
    "    #print the score prettily\n",
    "    return classification_report(labels_test,dev_predictions2)\n",
    "\n",
    "for i in [5,10,20,50]:\n",
    "    print(\"K-branch levels\" + str(i))\n",
    "    print(random_forest_model(i,train_data,train_labels,test_data,test_labels))"
   ]
  },
  {
   "cell_type": "code",
   "execution_count": 93,
   "metadata": {},
   "outputs": [
    {
     "name": "stdout",
     "output_type": "stream",
     "text": [
      "               precision    recall  f1-score   support\n",
      "\n",
      "        clear       0.91      0.97      0.94      7023\n",
      "       cloudy       0.78      0.75      0.77       493\n",
      "         haze       0.78      0.58      0.67       676\n",
      "partly_cloudy       0.89      0.75      0.81      1808\n",
      "\n",
      "  avg / total       0.89      0.90      0.89     10000\n",
      "\n",
      "[[6841   22   59  101]\n",
      " [  37  372   36   48]\n",
      " [ 197   61  395   23]\n",
      " [ 409   23   19 1357]]\n"
     ]
    }
   ],
   "source": [
    "sel_weather_model = RandomForestClassifier(n_estimators=10, max_depth=50, min_samples_leaf=20)\n",
    "     #fit per the train data\n",
    "sel_weather_model.fit(train_data, train_labels)\n",
    "dev_predictions2=model.predict(test_data)\n",
    "print(classification_report(test_labels,dev_predictions2))\n",
    "print(confusion_matrix(test_labels,dev_predictions2))"
   ]
  },
  {
   "cell_type": "markdown",
   "metadata": {},
   "source": [
    "This is a fairly accurate model, but too much of partly cloudly and hazy is getting classified as clear. We might need\n",
    "to split the colour bands up more, to be able to separate the from clear."
   ]
  },
  {
   "cell_type": "markdown",
   "metadata": {},
   "source": [
    "Lets try the simple tags and see how we do."
   ]
  },
  {
   "cell_type": "code",
   "execution_count": 18,
   "metadata": {
    "collapsed": true
   },
   "outputs": [],
   "source": [
    "df['tags_split'] = df['simpler_tags'].map(lambda row: row.split(\" \"))\n",
    "mlb = MultiLabelBinarizer()\n",
    "labels = mlb.fit_transform(df['tags_split'])\n",
    "\n",
    "train_labels=labels[:30000]\n",
    "\n",
    "test_labels=labels[30000:40000]\n"
   ]
  },
  {
   "cell_type": "code",
   "execution_count": 26,
   "metadata": {},
   "outputs": [
    {
     "name": "stdout",
     "output_type": "stream",
     "text": [
      "             precision    recall  f1-score   support\n",
      "\n",
      "          0       0.76      0.70      0.73      3020\n",
      "          1       0.54      0.11      0.19       244\n",
      "          2       0.00      0.00      0.00         1\n",
      "          3       0.92      0.94      0.93      7023\n",
      "          4       0.75      0.68      0.71       493\n",
      "          5       0.44      0.22      0.30      1127\n",
      "          6       0.48      0.27      0.35       917\n",
      "          7       0.74      0.52      0.61       676\n",
      "          8       0.80      0.74      0.77      1808\n",
      "          9       0.98      0.98      0.98      9291\n",
      "         10       0.61      0.52      0.56      1974\n",
      "         11       0.74      0.59      0.66      1807\n",
      "\n",
      "avg / total       0.84      0.79      0.81     28381\n",
      "\n"
     ]
    }
   ],
   "source": [
    "#let's try a decision trees, model\n",
    "ovr=OneVsRestClassifier(DecisionTreeClassifier(max_depth=50, min_samples_leaf=20)).fit(train_data,train_labels)\n",
    "ovr_predict=ovr.predict(test_data)\n",
    "print(classification_report(test_labels,ovr_predict))\n"
   ]
  },
  {
   "cell_type": "code",
   "execution_count": 27,
   "metadata": {},
   "outputs": [
    {
     "name": "stdout",
     "output_type": "stream",
     "text": [
      "             precision    recall  f1-score   support\n",
      "\n",
      "          0       0.82      0.67      0.74      3020\n",
      "          1       0.00      0.00      0.00       244\n",
      "          2       0.00      0.00      0.00         1\n",
      "          3       0.91      0.96      0.93      7023\n",
      "          4       0.80      0.67      0.73       493\n",
      "          5       0.74      0.07      0.12      1127\n",
      "          6       0.81      0.13      0.22       917\n",
      "          7       0.81      0.49      0.61       676\n",
      "          8       0.88      0.70      0.78      1808\n",
      "          9       0.97      0.99      0.98      9291\n",
      "         10       0.72      0.46      0.56      1974\n",
      "         11       0.85      0.52      0.64      1807\n",
      "\n",
      "avg / total       0.88      0.77      0.80     28381\n",
      "\n"
     ]
    }
   ],
   "source": [
    "#let's try a random forest, model\n",
    "ovr=OneVsRestClassifier(RandomForestClassifier(n_estimators=10, max_depth=50, min_samples_leaf=20)).fit(train_data,train_labels)\n",
    "ovr_predict=ovr.predict(test_data)\n",
    "print(classification_report(test_labels,ovr_predict))\n",
    "\n"
   ]
  },
  {
   "cell_type": "markdown",
   "metadata": {},
   "source": [
    "The model does well at picking clear, cloudy, primary and not much else. To better identify roads, and water edge extraction may \n",
    "help. We're also not taking advantage of correlation with the model here.\n",
    "\n",
    "Interestingly the model isn't picking too many false positives (i.e. precision), but is picking a lot of false negatives(i.e. recall). This suggests we need to build more features to pick up land masses, roads and waters. \n"
   ]
  },
  {
   "cell_type": "markdown",
   "metadata": {},
   "source": [
    "## Feature prediction of clear components\n",
    "Land and water can be extracted using canny edge detection or equivalent. The inputs are haze/cloud cleared train data+labels.\n",
    "\n",
    "[Under construction]"
   ]
  },
  {
   "cell_type": "code",
   "execution_count": null,
   "metadata": {
    "collapsed": true
   },
   "outputs": [],
   "source": [
    "def road_water_canny(train_data, train_labels, test_data, test_labels):\n",
    "##Testing water/road feature identification##\n",
    "    #40479 images in df\n",
    "    #13357 images with water and road tags in labels\n",
    "    train_roadwater_data = [i for i, j in zip(train_data, train_labels) if 'water' in j or 'road' in j]\n",
    "    train_roadwater_labels = [j for i, j in zip(train_data, train_labels) if 'water' in j or 'road' in j]\n",
    "    \n",
    "\n",
    "    \n",
    "    train_images = []\n",
    "    test_images = []\n",
    "    \n",
    "    feature_count = 0\n",
    "    positive_test_img = []\n",
    "    plt.figure(figsize=(12,12))\n",
    "    \n",
    "    for i, train_img in enumerate(train_roadwater_data):\n",
    "        \n",
    "        gray_image = cv2.cvtColor(img, cv2.COLOR_RGB2GRAY)\n",
    "        cannyed_image = cv2.Canny(gray_image, 100, 200)\n",
    "        \n",
    "        try:\n",
    "            plt.subplot(3,3,i+1)\n",
    "            if i < 10:\n",
    "                plt.imshow(cannyed_image)\n",
    "                #plt.title(str(df[df.image_name == df_road_water_images[i]].tags.values))\n",
    "        except:\n",
    "            pass\n",
    "        \n",
    "        predicted_sum = sum(cannyed_image.flatten())\n",
    "        \n",
    "        if predicted_sum > 2.0:\n",
    "            feature_count += 1\n",
    "            positive_train_img.append(train_)\n",
    "        \n",
    "    positive_label_count = len([i for i, j in zip(train_roadwater_, positive_train_img) if i == j])\n",
    "    \n",
    "    return feature_count, positive_label_count\n",
    "    \n",
    "feature_count, positive_label_count = road_water_canny(df)\n",
    "print('Total number of images with water/road boundary features', feature_count)\n",
    "print('Correctly predicted labels', positive_label_count)\n",
    "print('Accuracy is: ', positive_label_count/feature_count * 100, '%')\n",
    "print('Remaining images with especially water labels may not have boundaries/features in water or contain too much cloud.')"
   ]
  },
  {
   "cell_type": "markdown",
   "metadata": {},
   "source": [
    "Going forward we've got three clear priorities:\n",
    "\n",
    "Improve the models we have now:\n",
    "1) Improve the classifiers we have by running cross validation on the data, and setting up proper pipelines\n",
    "2) Play with the statistics in the model to see if changing them produces better impacts (i.e. water prediction is only working a third of the time, can we improve it)\n",
    "3) Try other kinds of multi-label models\n",
    "\n",
    "Extract More features:\n",
    "1) We've used a haze remover before to improve picture quality, and a two stage process will let us identify which pictures need it and then extract the land labels so we don't use any information.\n",
    "\n",
    "Try Deep learning:\n",
    "Image feature analysis is some what out of fashion, and most of the successful approaches to this on Kaggle used CNN. \n",
    "June if you could point us in the right direction for how to do this that would be awesome. We've run into memory issues, before using the statistical extraction approach."
   ]
  },
  {
   "cell_type": "markdown",
   "metadata": {},
   "source": [
    "Out of scope\n",
    "Try Convultional Neural Networks\n",
    "Ask June for help in Set-up"
   ]
  }
 ],
 "metadata": {
  "kernelspec": {
   "display_name": "Python 3",
   "language": "python",
   "name": "python3"
  },
  "language_info": {
   "codemirror_mode": {
    "name": "ipython",
    "version": 3
   },
   "file_extension": ".py",
   "mimetype": "text/x-python",
   "name": "python",
   "nbconvert_exporter": "python",
   "pygments_lexer": "ipython3",
   "version": "3.6.3"
  }
 },
 "nbformat": 4,
 "nbformat_minor": 2
}
